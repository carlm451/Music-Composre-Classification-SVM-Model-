{
 "cells": [
  {
   "cell_type": "code",
   "execution_count": 11,
   "id": "45f35845",
   "metadata": {},
   "outputs": [],
   "source": [
    "import music21\n",
    "\n",
    "import music21.features as features\n",
    "\n",
    "from helper_functions import *"
   ]
  },
  {
   "cell_type": "code",
   "execution_count": 12,
   "id": "4dbcb76c",
   "metadata": {},
   "outputs": [],
   "source": [
    "Composers = ['Bach','Brahms','Beethoven','Schubert']"
   ]
  },
  {
   "cell_type": "code",
   "execution_count": 13,
   "id": "7058a9cf",
   "metadata": {},
   "outputs": [],
   "source": [
    "midi_files = make_composer_dict(Composers,data_dir = './')"
   ]
  },
  {
   "cell_type": "code",
   "execution_count": 14,
   "id": "06bdd179",
   "metadata": {},
   "outputs": [
    {
     "data": {
      "text/plain": [
       "['./Bach/Cello Suite 3_BWV1009_2222_cs3-6gig.mid',\n",
       " './Bach/Violin Sonata in B minor_BWV1014_2284_vhs1_3.mid',\n",
       " './Bach/Violin Sonata No 1 in G minor_BWV1001_2243_vs1_3.mid',\n",
       " './Bach/Violin Partita No 3 in E major_BWV1006_2186_vs6_1.mid',\n",
       " './Bach/Violin Sonata No 1 in G minor_BWV1001_2242_vs1_2.mid',\n",
       " './Bach/Cello Suite 4_BWV1010_2297_cs4-5bou.mid',\n",
       " './Bach/Cello Suite 4_BWV1010_2298_cs4-6gig.mid',\n",
       " './Bach/Cello Suite 3_BWV1009_2219_cs3-3cou.mid',\n",
       " './Bach/Violin Sonata in B minor_BWV1014_2282_vhs1_1.mid',\n",
       " './Bach/Violin Sonata in B minor_BWV1014_2283_vhs1_2.mid',\n",
       " './Bach/Violin Sonata No 1 in G minor_BWV1001_2241_vs1_1.mid',\n",
       " './Bach/Cello Suite 3_BWV1009_2218_cs3-2all.mid',\n",
       " './Bach/Violin Partita No 1 in B minor_BWV1002_2288_vs2_2.mid',\n",
       " './Bach/Cello Suite 3_BWV1009_2221_cs3-5bou.mid',\n",
       " './Bach/Cello Suite 4_BWV1010_2296_cs4-4sar.mid',\n",
       " './Bach/Cello Suite 3_BWV1009_2217_cs3-1pre.mid',\n",
       " './Bach/Cello Suite 3_BWV1009_2220_cs3-4sar.mid']"
      ]
     },
     "execution_count": 14,
     "metadata": {},
     "output_type": "execute_result"
    }
   ],
   "source": [
    "midi_files['Bach']"
   ]
  },
  {
   "cell_type": "code",
   "execution_count": 16,
   "id": "3cd7bece",
   "metadata": {},
   "outputs": [
    {
     "data": {
      "text/html": [
       "\n",
       "                <div id=\"midiPlayerDiv29532\"></div>\n",
       "                <link rel=\"stylesheet\" href=\"//cuthbertLab.github.io/music21j/css/m21.css\"\n",
       "                    type=\"text/css\" />\n",
       "                \n",
       "                <script>\n",
       "                require.config({\n",
       "                    paths: {'music21': '//cuthbertLab.github.io/music21j/src/music21'}\n",
       "                });\n",
       "                require(['music21'], function() {\n",
       "                               mp = new music21.miditools.MidiPlayer();\n",
       "                               mp.addPlayer(\"#midiPlayerDiv29532\");\n",
       "                               mp.base64Load(\"data:audio/midi;base64,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\");\n",
       "                        });\n",
       "                </script>"
      ],
      "text/plain": [
       "<IPython.core.display.HTML object>"
      ]
     },
     "metadata": {},
     "output_type": "display_data"
    }
   ],
   "source": [
    "audio_path = midi_files['Bach'][0]\n",
    "\n",
    "from music21 import midi\n",
    "\n",
    "mf = midi.MidiFile()\n",
    "mf.open(audio_path) # path='abc.midi'\n",
    "mf.read()\n",
    "mf.close()\n",
    "s = midi.translate.midiFileToStream(mf)\n",
    "s.show('midi')"
   ]
  },
  {
   "cell_type": "code",
   "execution_count": 54,
   "id": "648024d5",
   "metadata": {},
   "outputs": [
    {
     "data": {
      "text/plain": [
       "[{'offsetSeconds': 0.0,\n",
       "  'durationSeconds': 178.0581818181818,\n",
       "  'endTimeSeconds': 178.0581818181818,\n",
       "  'element': <music21.stream.Part 0x7f2c28290fd0>,\n",
       "  'voiceIndex': None},\n",
       " {'offsetSeconds': 0.0,\n",
       "  'durationSeconds': 178.0581818181818,\n",
       "  'endTimeSeconds': 178.0581818181818,\n",
       "  'element': <music21.stream.Part 0x7f2c28265120>,\n",
       "  'voiceIndex': None},\n",
       " {'offsetSeconds': 0.0,\n",
       "  'durationSeconds': 178.0581818181818,\n",
       "  'endTimeSeconds': 178.0581818181818,\n",
       "  'element': <music21.stream.Part 0x7f2c27e70f40>,\n",
       "  'voiceIndex': None},\n",
       " {'offsetSeconds': 0.0,\n",
       "  'durationSeconds': 178.0581818181818,\n",
       "  'endTimeSeconds': 178.0581818181818,\n",
       "  'element': <music21.stream.Part 0x7f2c27db82e0>,\n",
       "  'voiceIndex': None}]"
      ]
     },
     "execution_count": 54,
     "metadata": {},
     "output_type": "execute_result"
    }
   ],
   "source": [
    "s.secondsMap"
   ]
  },
  {
   "cell_type": "code",
   "execution_count": 75,
   "id": "1f54adae",
   "metadata": {},
   "outputs": [
    {
     "data": {
      "text/html": [
       "\n",
       "                <div id=\"midiPlayerDiv4329920\"></div>\n",
       "                <link rel=\"stylesheet\" href=\"//cuthbertLab.github.io/music21j/css/m21.css\"\n",
       "                    type=\"text/css\" />\n",
       "                \n",
       "                <script>\n",
       "                require.config({\n",
       "                    paths: {'music21': '//cuthbertLab.github.io/music21j/src/music21'}\n",
       "                });\n",
       "                require(['music21'], function() {\n",
       "                               mp = new music21.miditools.MidiPlayer();\n",
       "                               mp.addPlayer(\"#midiPlayerDiv4329920\");\n",
       "                               mp.base64Load(\"data:audio/midi;base64,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\");\n",
       "                        });\n",
       "                </script>"
      ],
      "text/plain": [
       "<IPython.core.display.HTML object>"
      ]
     },
     "metadata": {},
     "output_type": "display_data"
    }
   ],
   "source": [
    "excerpt_stream  =   s.measures(1,50)  \n",
    "excerpt_stream.show('midi')"
   ]
  },
  {
   "cell_type": "code",
   "execution_count": 34,
   "id": "28f8160d",
   "metadata": {},
   "outputs": [
    {
     "data": {
      "text/plain": [
       "[2]"
      ]
     },
     "execution_count": 34,
     "metadata": {},
     "output_type": "execute_result"
    }
   ],
   "source": [
    "fe = features.jSymbolic.MostCommonMelodicIntervalFeature(s)\n",
    "f = fe.extract()\n",
    "f.vector"
   ]
  },
  {
   "cell_type": "code",
   "execution_count": 36,
   "id": "99da8cdd",
   "metadata": {},
   "outputs": [
    {
     "data": {
      "text/plain": [
       "2.958545454545454"
      ]
     },
     "execution_count": 36,
     "metadata": {},
     "output_type": "execute_result"
    }
   ],
   "source": [
    "fe = features.jSymbolic.DurationFeature(s)\n",
    "f = fe.extract()\n",
    "f.vector[0]/60"
   ]
  },
  {
   "cell_type": "code",
   "execution_count": 18,
   "id": "20ddada4",
   "metadata": {},
   "outputs": [
    {
     "data": {
      "text/plain": [
       "[3, 8]"
      ]
     },
     "execution_count": 18,
     "metadata": {},
     "output_type": "execute_result"
    }
   ],
   "source": [
    "fe = features.jSymbolic.InitialTimeSignatureFeature(s)\n",
    "fe.extract().vector"
   ]
  },
  {
   "cell_type": "code",
   "execution_count": 19,
   "id": "7aedb183",
   "metadata": {},
   "outputs": [
    {
     "data": {
      "text/plain": [
       "[2]"
      ]
     },
     "execution_count": 19,
     "metadata": {},
     "output_type": "execute_result"
    }
   ],
   "source": [
    "fe = features.jSymbolic.NumberOfCommonPitchesFeature(s)\n",
    "fe.extract().vector"
   ]
  },
  {
   "cell_type": "code",
   "execution_count": 43,
   "id": "766d5aad",
   "metadata": {},
   "outputs": [
    {
     "data": {
      "text/plain": [
       "music21.features.jSymbolic.DurationFeature"
      ]
     },
     "execution_count": 43,
     "metadata": {},
     "output_type": "execute_result"
    }
   ],
   "source": [
    "n = 'DurationFeature'\n",
    "\n",
    "getattr(features.jSymbolic,n)"
   ]
  },
  {
   "cell_type": "code",
   "execution_count": 53,
   "id": "83c2b8d1",
   "metadata": {},
   "outputs": [
    {
     "name": "stdout",
     "output_type": "stream",
     "text": [
      "M 2 AverageMelodicInterval [2.96455938697318]\n",
      "M 3 MostCommonMelodicInterval [2]\n",
      "M 4 DistanceBetweenMostCommonMelodicIntervals [2]\n",
      "M 5 MostCommonMelodicIntervalPrevalence [0.29118773946360155]\n",
      "M 6 RelativeStrengthOfMostCommonIntervals [0.7138157894736842]\n",
      "M 7 NumberOfCommonMelodicIntervals [3]\n",
      "M 8 AmountOfArpeggiation [0.4386973180076628]\n",
      "M 9 RepeatedNotes [0.2078544061302682]\n",
      "M 10 ChromaticMotion [0.17624521072796934]\n",
      "M 11 StepwiseMotion [0.4674329501915709]\n",
      "M 12 MelodicThirds [0.1331417624521073]\n",
      "M 13 MelodicFifths [0.038314176245210725]\n",
      "M 14 MelodicTritones [0.004789272030651341]\n",
      "M 15 MelodicOctaves [0.016283524904214558]\n",
      "M 17 DirectionOfMotion [0.5151148730350665]\n",
      "M 18 DurationOfMelodicArcs [1.8838268792710706]\n",
      "M 19 SizeOfMelodicArcs [6.979498861047836]\n",
      "P 1 MostCommonPitchPrevalence [0.16603053435114504]\n",
      "P 2 MostCommonPitchClassPrevalence [0.21183206106870228]\n",
      "P 3 RelativeStrengthOfTopPitches [0.7701149425287356]\n",
      "P 4 RelativeStrengthOfTopPitchClasses [0.972972972972973]\n",
      "P 5 IntervalBetweenStrongestPitches [7]\n",
      "P 6 IntervalBetweenStrongestPitchClasses [5]\n",
      "P 7 NumberOfCommonPitches [2]\n",
      "P 8 PitchVariety [28]\n",
      "P 9 PitchClassVariety [12]\n",
      "P 10 Range [31]\n",
      "P 11 MostCommonPitch [50]\n",
      "P 12 PrimaryRegister [52.75763358778626]\n",
      "P 13 ImportanceOfBassRegister [0.5782442748091603]\n",
      "P 14 ImportanceOfMiddleRegister [0.4217557251908397]\n",
      "P 15 ImportanceOfHighRegister [0.0]\n",
      "P 16 MostCommonPitchClass [2]\n",
      "P 22 Quality [0]\n",
      "R 15 NoteDensity [5.903802032120616]\n",
      "R 17 AverageNoteDuration [0.20090215128382935]\n",
      "R 18 VariabilityOfNoteDuration [0.10799007939580028]\n",
      "R 19 MaximumNoteDuration [1.0909090909090908]\n",
      "R 20 MinimumNoteDuration [0.13636363636363635]\n",
      "R 21 StaccatoIncidence [0.0]\n",
      "R 22 AverageTimeBetweenAttacks [0.18448357924797712]\n",
      "R 23 VariabilityOfTimeBetweenAttacks [0.07894522614341457]\n",
      "R 36 Duration [177.51272727272726]\n"
     ]
    }
   ],
   "source": [
    "# Narrowing down useful features to use... \n",
    "\n",
    "matches = [\"Fraction\", \"Instrument\",\"Meter\",\"Tempo\",\"Voice\"]\n",
    "\n",
    "stop = 5\n",
    "\n",
    "\n",
    "fs = features.jSymbolic.extractorsById\n",
    "for k in fs:\n",
    "    for i in range(len(fs[k])):\n",
    "          if fs[k][i] is not None:\n",
    "                n = fs[k][i].__name__\n",
    "                if fs[k][i] not in features.jSymbolic.featureExtractors:\n",
    "                    n += ' (not implemented)'\n",
    "                    continue\n",
    "                    \n",
    "                name = n[:-7] # though out Feature end \n",
    "                \n",
    "                if any(x in name for x in matches):\n",
    "                    continue\n",
    "                    \n",
    "                extractor = getattr(features.jSymbolic,n) \n",
    "                \n",
    "                fe = extractor(s)\n",
    "                \n",
    "                try:\n",
    "                    val = fe.extract().vector\n",
    "                except:\n",
    "                    continue\n",
    "                    \n",
    "                if len(val)>1:\n",
    "                    continue\n",
    "                    \n",
    "                print(f'{k} {i} {name} {val}')"
   ]
  },
  {
   "cell_type": "code",
   "execution_count": 28,
   "id": "ae3b166b",
   "metadata": {},
   "outputs": [
    {
     "data": {
      "text/plain": [
       "'C'"
      ]
     },
     "execution_count": 28,
     "metadata": {},
     "output_type": "execute_result"
    }
   ],
   "source": [
    "k"
   ]
  },
  {
   "cell_type": "code",
   "execution_count": null,
   "id": "954a1845",
   "metadata": {},
   "outputs": [],
   "source": []
  }
 ],
 "metadata": {
  "kernelspec": {
   "display_name": "Python 3 (ipykernel)",
   "language": "python",
   "name": "python3"
  },
  "language_info": {
   "codemirror_mode": {
    "name": "ipython",
    "version": 3
   },
   "file_extension": ".py",
   "mimetype": "text/x-python",
   "name": "python",
   "nbconvert_exporter": "python",
   "pygments_lexer": "ipython3",
   "version": "3.10.8"
  }
 },
 "nbformat": 4,
 "nbformat_minor": 5
}
