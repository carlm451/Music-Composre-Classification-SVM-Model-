{
 "cells": [
  {
   "cell_type": "markdown",
   "id": "19cd4560",
   "metadata": {},
   "source": [
    "# What is Human Performance ? And what is Optimal Performance\n",
    "\n",
    "For intuition about accuracy, how well it's possible to do on the data, would be helpful to compare to human performance and to optimal possible performance on the composer classification problem. \n",
    "\n",
    "* What is accuracy for average person classifying Bach or Not ? \n",
    "\n",
    "* What is accuarcy for average person classifying Bach, Brahms, Beethoven, Schubert ? \n",
    "\n",
    "* Expert classical musicians accuracy classifying Bach or Not ? \n",
    "\n",
    "* Expert classical musicians classifying all four ? \n",
    "\n",
    "* Optimal Limit, room to improve beyond experts with ML algorithms ? \n",
    "\n",
    "Initial Hypothesis: \n",
    "\n",
    "* Avg person: ~0.5-0.6 acc for Bach or Not , ~0.3-0.4 acc for picking between the four \n",
    "\n",
    "    - from own experience, and EDA, Bach disitinctive sound, others more similar \n",
    "    \n",
    "    - would also guess Beethoven should be easy for average person, but from EDA beethoven data resmebles the Brahms and Schubert \n",
    "\n",
    "* Expert Classical musician: ~0.95 Bach or Not , ~0.8-0.9 all four\n",
    "\n",
    "    - would expect an expert to recognize not just the compose but often the name of the piece itself\n",
    "    \n",
    "    - but maybe there are lesser know works, or maybe clip is too short to be sure even for an expert \n",
    "    \n",
    "* Bayes Optimal:~0.95 - 1.0 Bach or Nto , ~0.95 all four\n",
    "\n",
    "    - given so much detailed possible structure and features could extract from clip\n",
    "    \n",
    "    - but maybe there are similarities or clips are short enough that ~1.0 not possible\n",
    "    \n",
    "## Check ? How well can we do on small sample of streams from data set ? \n",
    "\n",
    "see Feature_Extraction_Pipeline for function details "
   ]
  },
  {
   "cell_type": "code",
   "execution_count": 1,
   "id": "528841ea",
   "metadata": {},
   "outputs": [],
   "source": [
    "import music21\n",
    "import music21.features as features\n",
    "from music21 import midi\n",
    "from music21 import stream\n",
    "from helper_functions import *\n",
    "from numpy.random import randint\n",
    "\n",
    "import numpy as np\n",
    "\n",
    "from collections import namedtuple"
   ]
  },
  {
   "cell_type": "code",
   "execution_count": 28,
   "id": "18191278",
   "metadata": {},
   "outputs": [
    {
     "name": "stdout",
     "output_type": "stream",
     "text": [
      "There are 17 compositions by Bach\n",
      "There are 132 compositions by Beethoven\n",
      "There are 20 compositions by Brahms\n",
      "There are 25 compositions by Schubert\n"
     ]
    }
   ],
   "source": [
    "# get dictionary paths to *.mid files for each composer \n",
    "\n",
    "Composers = ['Bach','Beethoven','Brahms','Schubert']\n",
    "\n",
    "midi_files = make_composer_dict(Composers,data_dir = './')\n",
    "\n",
    "# print number of files each folder\n",
    "\n",
    "for composer in Composers:\n",
    "    print(f'There are {len(midi_files[composer])} compositions by {composer}')"
   ]
  },
  {
   "cell_type": "code",
   "execution_count": 3,
   "id": "87678724",
   "metadata": {},
   "outputs": [],
   "source": [
    "# for seeding random samples \n",
    "\n",
    "from numpy.random import Generator, PCG64\n",
    "rng = Generator(PCG64())"
   ]
  },
  {
   "cell_type": "code",
   "execution_count": 7,
   "id": "188b301a",
   "metadata": {},
   "outputs": [],
   "source": [
    "# function to extract n streams, target duration T seconds for composer \n",
    "\n",
    "# extracts n_clips each from n_tracks\n",
    "\n",
    "# will use namedtuples as convient way to store clips, composer info\n",
    "\n",
    "Clip = namedtuple('Clip',['composer','path','start','stop','seconds','stream'])\n",
    "\n",
    "def extract_samples(composer,T=30,n_tracks=10,n_clips=3,show_streams=False):\n",
    "    delta_measures = list(range(5,50,1))\n",
    "\n",
    "    clips = []\n",
    "    \n",
    "    for audio_path in midi_files[composer][:n_tracks]:\n",
    "\n",
    "        mf = midi.MidiFile()\n",
    "        mf.open(audio_path) # path='abc.midi'\n",
    "        mf.read()\n",
    "        mf.close()\n",
    "        s = midi.translate.midiFileToStream(mf)\n",
    "\n",
    "        total_time = s.secondsMap[0]['durationSeconds']\n",
    "\n",
    "        number_of_measures = len(s[0])  # think this is total number of measures in the stream?\n",
    "\n",
    "        print(audio_path,'lasts approx ',total_time,' seconds')\n",
    "        \n",
    "        #pick n_clips random measures to start clipping from \n",
    "        \n",
    "        #start_measures = randint(1,number_of_measures//2,size=n_clips)\n",
    "        start_measures = rng.integers(1,number_of_measures//2,size=n_clips)\n",
    "        \n",
    "        for i,start in enumerate(start_measures):\n",
    "            \n",
    "            for delta in delta_measures:\n",
    "\n",
    "                stop = start+delta\n",
    "\n",
    "                excerpt_stream = s.measures(start,stop)\n",
    "\n",
    "                clip_time = excerpt_stream.secondsMap[0]['durationSeconds']\n",
    "\n",
    "                if clip_time>T: # clip sample streams until time is longer than T\n",
    "                    print('clip: ',i,' --> ','t = ',clip_time,'start = ',start,'stop =',stop,' delta = ',delta)\n",
    "\n",
    "                    #clip = (composer,audio_path,start,stop,clip_time,excerpt_stream)\n",
    "                    \n",
    "                    clip = Clip(composer=composer,\n",
    "                                path=audio_path,\n",
    "                                start=start,\n",
    "                                stop=stop,\n",
    "                                seconds=clip_time,\n",
    "                                stream = excerpt_stream)\n",
    "                    \n",
    "                    clips.append(clip)\n",
    "                    \n",
    "                    if show_streams: excerpt_stream.show('midi')\n",
    "                        \n",
    "                    break\n",
    "                    \n",
    "    \n",
    "    return clips"
   ]
  },
  {
   "cell_type": "code",
   "execution_count": 5,
   "id": "8f21281a",
   "metadata": {},
   "outputs": [],
   "source": [
    "target_time = 30 # desired time in seconds for audio clips\n",
    "\n",
    "n_clips = 1 # since clips range from 2 - 4 minutes, will get few different slices with some but not a lot of overlap\n",
    "\n",
    "n_tracks = 3 # this will give 4*15 = 60 per composer , 240 in total\n",
    "\n",
    "# keep track of extracted clips lists in a dictionary\n",
    "\n",
    "composer_clips = dict()"
   ]
  },
  {
   "cell_type": "code",
   "execution_count": 9,
   "id": "1b47862e",
   "metadata": {},
   "outputs": [
    {
     "name": "stdout",
     "output_type": "stream",
     "text": [
      "./Bach/Cello Suite 3_BWV1009_2222_cs3-6gig.mid lasts approx  178.0581818181818  seconds\n",
      "clip:  0  -->  t =  30.75 start =  17 stop = 57  delta =  40\n",
      "./Bach/Violin Sonata in B minor_BWV1014_2284_vhs1_3.mid lasts approx  151.34728996720207  seconds\n",
      "clip:  0  -->  t =  32.0 start =  10 stop = 25  delta =  15\n",
      "./Bach/Violin Sonata No 1 in G minor_BWV1001_2243_vs1_3.mid lasts approx  186.63523499970867  seconds\n",
      "clip:  0  -->  t =  48.478229203229205 start =  6 stop = 11  delta =  5\n",
      "./Brahms/String Sextet No 2 in G major_OP36_2147_br36m4.mid lasts approx  555.7777490470717  seconds\n",
      "clip:  0  -->  t =  31.85835686053077 start =  1 stop = 13  delta =  12\n",
      "./Brahms/Piano Quartet No 1 in G minor_OP25_2151_br25m4.mid lasts approx  480.1360988926574  seconds\n",
      "clip:  0  -->  t =  30.2 start =  205 stop = 233  delta =  28\n",
      "./Brahms/Horn Trio in E-flat major_OP40_2158_bra40_1.mid lasts approx  484.7308941926688  seconds\n",
      "clip:  0  -->  t =  31.0 start =  20 stop = 50  delta =  30\n",
      "./Beethoven/String Quartet No 1 in F Major_OP18NO1_2403_qt01_4.mid lasts approx  315.7202498935679  seconds\n",
      "clip:  0  -->  t =  30.773249858141074 start =  124 stop = 159  delta =  35\n",
      "./Beethoven/Piano Sonata No 20 in C minor_OP111_2531_ps32_02.mid lasts approx  951.9290715488472  seconds\n",
      "clip:  0  -->  t =  32.791666666666664 start =  8 stop = 16  delta =  8\n",
      "./Beethoven/Piano Sonata No 8 in C minor_OP13_2576_ps08_03.mid lasts approx  263.80465302836416  seconds\n",
      "clip:  0  -->  t =  30.00691993638735 start =  43 stop = 66  delta =  23\n",
      "./Schubert/4 Impromptus_OP142_1766_scbt1424.mid lasts approx  406.6597554277911  seconds\n",
      "clip:  0  -->  t =  30.668087217384087 start =  149 stop = 188  delta =  39\n",
      "./Schubert/Piano Sonata in C minor_D958_1757_d958-1.mid lasts approx  602.4348325782179  seconds\n",
      "clip:  0  -->  t =  31.903041451448246 start =  46 stop = 62  delta =  16\n",
      "./Schubert/Piano Sonata in A minor_D784_1756_sy_sps53.mid lasts approx  267.58643175879286  seconds\n",
      "clip:  0  -->  t =  30.5 start =  116 stop = 135  delta =  19\n"
     ]
    }
   ],
   "source": [
    "#return list of clips for give composer \n",
    "\n",
    "# will go one at a time, could change to loop over list if were more than 4 composers to workwith \n",
    "\n",
    "for composer in Composers:\n",
    "    composer_clips[composer] = extract_samples(composer,T=target_time,n_tracks=n_tracks,n_clips=n_clips)"
   ]
  },
  {
   "cell_type": "code",
   "execution_count": 18,
   "id": "e44438d5",
   "metadata": {},
   "outputs": [],
   "source": [
    "clip_indices = []\n",
    "\n",
    "for composer in Composers: \n",
    "    \n",
    "    for i in range(3):\n",
    "        \n",
    "        clip_indices.append((composer,i))\n",
    "        \n",
    "clip_indices = np.random.permutation(clip_indices) # shuffle the samples"
   ]
  },
  {
   "cell_type": "code",
   "execution_count": 35,
   "id": "fa981c86",
   "metadata": {},
   "outputs": [
    {
     "data": {
      "text/html": [
       "\n",
       "                <div id=\"midiPlayerDiv734845\"></div>\n",
       "                <link rel=\"stylesheet\" href=\"//cuthbertLab.github.io/music21j/css/m21.css\"\n",
       "                    type=\"text/css\" />\n",
       "                \n",
       "                <script>\n",
       "                require.config({\n",
       "                    paths: {'music21': '//cuthbertLab.github.io/music21j/src/music21'}\n",
       "                });\n",
       "                require(['music21'], function() {\n",
       "                               mp = new music21.miditools.MidiPlayer();\n",
       "                               mp.addPlayer(\"#midiPlayerDiv734845\");\n",
       "                               mp.base64Load(\"data:audio/midi;base64,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\");\n",
       "                        });\n",
       "                </script>"
      ],
      "text/plain": [
       "<IPython.core.display.HTML object>"
      ]
     },
     "metadata": {},
     "output_type": "display_data"
    },
    {
     "name": "stdout",
     "output_type": "stream",
     "text": [
      "Listen and take a Guess... 0 - Bach , 1 Beethoven, 2 - Brahams, 3 - Schubert \n",
      "Guess ??? :  0\n"
     ]
    },
    {
     "data": {
      "text/html": [
       "\n",
       "                <div id=\"midiPlayerDiv739984\"></div>\n",
       "                <link rel=\"stylesheet\" href=\"//cuthbertLab.github.io/music21j/css/m21.css\"\n",
       "                    type=\"text/css\" />\n",
       "                \n",
       "                <script>\n",
       "                require.config({\n",
       "                    paths: {'music21': '//cuthbertLab.github.io/music21j/src/music21'}\n",
       "                });\n",
       "                require(['music21'], function() {\n",
       "                               mp = new music21.miditools.MidiPlayer();\n",
       "                               mp.addPlayer(\"#midiPlayerDiv739984\");\n",
       "                               mp.base64Load(\"data:audio/midi;base64,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\");\n",
       "                        });\n",
       "                </script>"
      ],
      "text/plain": [
       "<IPython.core.display.HTML object>"
      ]
     },
     "metadata": {},
     "output_type": "display_data"
    },
    {
     "name": "stdout",
     "output_type": "stream",
     "text": [
      "Listen and take a Guess... 0 - Bach , 1 Beethoven, 2 - Brahams, 3 - Schubert \n",
      "Guess ??? :  2\n"
     ]
    },
    {
     "data": {
      "text/html": [
       "\n",
       "                <div id=\"midiPlayerDiv743451\"></div>\n",
       "                <link rel=\"stylesheet\" href=\"//cuthbertLab.github.io/music21j/css/m21.css\"\n",
       "                    type=\"text/css\" />\n",
       "                \n",
       "                <script>\n",
       "                require.config({\n",
       "                    paths: {'music21': '//cuthbertLab.github.io/music21j/src/music21'}\n",
       "                });\n",
       "                require(['music21'], function() {\n",
       "                               mp = new music21.miditools.MidiPlayer();\n",
       "                               mp.addPlayer(\"#midiPlayerDiv743451\");\n",
       "                               mp.base64Load(\"data:audio/midi;base64,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\");\n",
       "                        });\n",
       "                </script>"
      ],
      "text/plain": [
       "<IPython.core.display.HTML object>"
      ]
     },
     "metadata": {},
     "output_type": "display_data"
    },
    {
     "name": "stdout",
     "output_type": "stream",
     "text": [
      "Listen and take a Guess... 0 - Bach , 1 Beethoven, 2 - Brahams, 3 - Schubert \n",
      "Guess ??? :  1\n"
     ]
    },
    {
     "data": {
      "text/html": [
       "\n",
       "                <div id=\"midiPlayerDiv752475\"></div>\n",
       "                <link rel=\"stylesheet\" href=\"//cuthbertLab.github.io/music21j/css/m21.css\"\n",
       "                    type=\"text/css\" />\n",
       "                \n",
       "                <script>\n",
       "                require.config({\n",
       "                    paths: {'music21': '//cuthbertLab.github.io/music21j/src/music21'}\n",
       "                });\n",
       "                require(['music21'], function() {\n",
       "                               mp = new music21.miditools.MidiPlayer();\n",
       "                               mp.addPlayer(\"#midiPlayerDiv752475\");\n",
       "                               mp.base64Load(\"data:audio/midi;base64,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\");\n",
       "                        });\n",
       "                </script>"
      ],
      "text/plain": [
       "<IPython.core.display.HTML object>"
      ]
     },
     "metadata": {},
     "output_type": "display_data"
    },
    {
     "name": "stdout",
     "output_type": "stream",
     "text": [
      "Listen and take a Guess... 0 - Bach , 1 Beethoven, 2 - Brahams, 3 - Schubert \n",
      "Guess ??? :  1\n"
     ]
    },
    {
     "data": {
      "text/html": [
       "\n",
       "                <div id=\"midiPlayerDiv755946\"></div>\n",
       "                <link rel=\"stylesheet\" href=\"//cuthbertLab.github.io/music21j/css/m21.css\"\n",
       "                    type=\"text/css\" />\n",
       "                \n",
       "                <script>\n",
       "                require.config({\n",
       "                    paths: {'music21': '//cuthbertLab.github.io/music21j/src/music21'}\n",
       "                });\n",
       "                require(['music21'], function() {\n",
       "                               mp = new music21.miditools.MidiPlayer();\n",
       "                               mp.addPlayer(\"#midiPlayerDiv755946\");\n",
       "                               mp.base64Load(\"data:audio/midi;base64,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\");\n",
       "                        });\n",
       "                </script>"
      ],
      "text/plain": [
       "<IPython.core.display.HTML object>"
      ]
     },
     "metadata": {},
     "output_type": "display_data"
    },
    {
     "name": "stdout",
     "output_type": "stream",
     "text": [
      "Listen and take a Guess... 0 - Bach , 1 Beethoven, 2 - Brahams, 3 - Schubert \n",
      "Guess ??? :  2\n"
     ]
    },
    {
     "data": {
      "text/html": [
       "\n",
       "                <div id=\"midiPlayerDiv758411\"></div>\n",
       "                <link rel=\"stylesheet\" href=\"//cuthbertLab.github.io/music21j/css/m21.css\"\n",
       "                    type=\"text/css\" />\n",
       "                \n",
       "                <script>\n",
       "                require.config({\n",
       "                    paths: {'music21': '//cuthbertLab.github.io/music21j/src/music21'}\n",
       "                });\n",
       "                require(['music21'], function() {\n",
       "                               mp = new music21.miditools.MidiPlayer();\n",
       "                               mp.addPlayer(\"#midiPlayerDiv758411\");\n",
       "                               mp.base64Load(\"data:audio/midi;base64,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\");\n",
       "                        });\n",
       "                </script>"
      ],
      "text/plain": [
       "<IPython.core.display.HTML object>"
      ]
     },
     "metadata": {},
     "output_type": "display_data"
    },
    {
     "name": "stdout",
     "output_type": "stream",
     "text": [
      "Listen and take a Guess... 0 - Bach , 1 Beethoven, 2 - Brahams, 3 - Schubert \n",
      "Guess ??? :  3\n"
     ]
    },
    {
     "data": {
      "text/html": [
       "\n",
       "                <div id=\"midiPlayerDiv766479\"></div>\n",
       "                <link rel=\"stylesheet\" href=\"//cuthbertLab.github.io/music21j/css/m21.css\"\n",
       "                    type=\"text/css\" />\n",
       "                \n",
       "                <script>\n",
       "                require.config({\n",
       "                    paths: {'music21': '//cuthbertLab.github.io/music21j/src/music21'}\n",
       "                });\n",
       "                require(['music21'], function() {\n",
       "                               mp = new music21.miditools.MidiPlayer();\n",
       "                               mp.addPlayer(\"#midiPlayerDiv766479\");\n",
       "                               mp.base64Load(\"data:audio/midi;base64,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\");\n",
       "                        });\n",
       "                </script>"
      ],
      "text/plain": [
       "<IPython.core.display.HTML object>"
      ]
     },
     "metadata": {},
     "output_type": "display_data"
    },
    {
     "name": "stdout",
     "output_type": "stream",
     "text": [
      "Listen and take a Guess... 0 - Bach , 1 Beethoven, 2 - Brahams, 3 - Schubert \n",
      "Guess ??? :  2\n"
     ]
    },
    {
     "data": {
      "text/html": [
       "\n",
       "                <div id=\"midiPlayerDiv773576\"></div>\n",
       "                <link rel=\"stylesheet\" href=\"//cuthbertLab.github.io/music21j/css/m21.css\"\n",
       "                    type=\"text/css\" />\n",
       "                \n",
       "                <script>\n",
       "                require.config({\n",
       "                    paths: {'music21': '//cuthbertLab.github.io/music21j/src/music21'}\n",
       "                });\n",
       "                require(['music21'], function() {\n",
       "                               mp = new music21.miditools.MidiPlayer();\n",
       "                               mp.addPlayer(\"#midiPlayerDiv773576\");\n",
       "                               mp.base64Load(\"data:audio/midi;base64,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\");\n",
       "                        });\n",
       "                </script>"
      ],
      "text/plain": [
       "<IPython.core.display.HTML object>"
      ]
     },
     "metadata": {},
     "output_type": "display_data"
    },
    {
     "name": "stdout",
     "output_type": "stream",
     "text": [
      "Listen and take a Guess... 0 - Bach , 1 Beethoven, 2 - Brahams, 3 - Schubert \n",
      "Guess ??? :  3\n"
     ]
    },
    {
     "data": {
      "text/html": [
       "\n",
       "                <div id=\"midiPlayerDiv778840\"></div>\n",
       "                <link rel=\"stylesheet\" href=\"//cuthbertLab.github.io/music21j/css/m21.css\"\n",
       "                    type=\"text/css\" />\n",
       "                \n",
       "                <script>\n",
       "                require.config({\n",
       "                    paths: {'music21': '//cuthbertLab.github.io/music21j/src/music21'}\n",
       "                });\n",
       "                require(['music21'], function() {\n",
       "                               mp = new music21.miditools.MidiPlayer();\n",
       "                               mp.addPlayer(\"#midiPlayerDiv778840\");\n",
       "                               mp.base64Load(\"data:audio/midi;base64,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\");\n",
       "                        });\n",
       "                </script>"
      ],
      "text/plain": [
       "<IPython.core.display.HTML object>"
      ]
     },
     "metadata": {},
     "output_type": "display_data"
    },
    {
     "name": "stdout",
     "output_type": "stream",
     "text": [
      "Listen and take a Guess... 0 - Bach , 1 Beethoven, 2 - Brahams, 3 - Schubert \n",
      "Guess ??? :  2\n"
     ]
    },
    {
     "data": {
      "text/html": [
       "\n",
       "                <div id=\"midiPlayerDiv785754\"></div>\n",
       "                <link rel=\"stylesheet\" href=\"//cuthbertLab.github.io/music21j/css/m21.css\"\n",
       "                    type=\"text/css\" />\n",
       "                \n",
       "                <script>\n",
       "                require.config({\n",
       "                    paths: {'music21': '//cuthbertLab.github.io/music21j/src/music21'}\n",
       "                });\n",
       "                require(['music21'], function() {\n",
       "                               mp = new music21.miditools.MidiPlayer();\n",
       "                               mp.addPlayer(\"#midiPlayerDiv785754\");\n",
       "                               mp.base64Load(\"data:audio/midi;base64,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\");\n",
       "                        });\n",
       "                </script>"
      ],
      "text/plain": [
       "<IPython.core.display.HTML object>"
      ]
     },
     "metadata": {},
     "output_type": "display_data"
    },
    {
     "name": "stdout",
     "output_type": "stream",
     "text": [
      "Listen and take a Guess... 0 - Bach , 1 Beethoven, 2 - Brahams, 3 - Schubert \n",
      "Guess ??? :  1\n"
     ]
    },
    {
     "data": {
      "text/html": [
       "\n",
       "                <div id=\"midiPlayerDiv787052\"></div>\n",
       "                <link rel=\"stylesheet\" href=\"//cuthbertLab.github.io/music21j/css/m21.css\"\n",
       "                    type=\"text/css\" />\n",
       "                \n",
       "                <script>\n",
       "                require.config({\n",
       "                    paths: {'music21': '//cuthbertLab.github.io/music21j/src/music21'}\n",
       "                });\n",
       "                require(['music21'], function() {\n",
       "                               mp = new music21.miditools.MidiPlayer();\n",
       "                               mp.addPlayer(\"#midiPlayerDiv787052\");\n",
       "                               mp.base64Load(\"data:audio/midi;base64,TVRoZAAAAAYAAQADBABNVHJrAAAAKgD/WQIAAAD/WAQJBBgIqgD/UQMh6I6GAP9RAx6EgAD/UQMehICIAP8vAE1UcmsAAAJTAP8DBVJpZ2h0AMAAAOAAQADAAIgAkEdQAJBDUACQPlCGAIBHAACAQwAAgD4AAJBIUACQQ1AAkDxQhgCASAAAgEMAAIA8AACQSlAAkENQAJA+UIQAgEoAAIBDAACAPgAAkENQAJA+UIIAgEMAAJBDUIQAgD4AAJA+WoIAgD4AAJA8WgCQQFqEAIA8AACAQAAAkEFQAJA7UIIAgEMAAIBBAACAOwAAkEhQAJBAUIQAkENQggCASAAAgEAAAIBDAACQQ1AAkEBQhgCAQAAAkEFQhgCAQwAAgEEAAJA+UACQSlCEAIA+AACASgAAkENQggCAQwAAkENQAJA+UIYAgD4AAJBAUIYAgEMAAIBAAACQQVAAkENQhgCAQQAAgEMAAJBDUIYAgEMAAJBMUACQQFCGAIBMAACAQAAAkEhQAJBDUIYAgEgAAIBDAACQSFAAkEBQhgCASAAAgEAAAJBHUACQPlCGAIBHAACAPgAAkEdQAJBDUACQPlCGAIBHAACAQwAAgD4AAJBDUACQSFCGAIBIAACQTFqGAIBDAACATAAAkE9kAJBDZIYAgE8AAIBDAACQRWQAkE9khgCATwAAkE1dhgCARQAAgE0AAJBKVQCQRVWEAIBKAACARQAAkEhQAJBFUACQPlCCAIBIAACARQAAgD4AAJBHUACQQ1AAkD5QhgCARwAAgEMAAIA+AACQSFAAkENQAJA8UIYAgEgAAIBDAACAPAAAkEpQAJBDUACQPlCEAIBKAACAQwAAgD4AAJBDUACQPlCCAIBDAACAPgCIAP8vAE1UcmsAAAG2AP8DBExlZnQAwAAA4ABAAMAAiACQK1AAkB9QhgCAKwAAkC1QhgCAHwAAgC0AAJAvUIQAgC8AAJAvUIYAgC8AAJAvWoIAgC8AAJAwWoQAgDAAAJAyUIIAgDIAAJArUACQJFCGAIArAACAJAAAkCtQAJAkUIYAgCsAAIAkAACQK1AAkCZQhgCAKwAAgCYAAJArUACQJFCGAIArAACAJAAAkCtQAJAjUIYAgCsAAIAjAACQK1AAkCRQhgCAKwAAgCQAAJArUACQJlCGAIArAACAJgAAkCtQAJAoUIYAgCsAAIAoAACQK1AAkCRQhgCAKwAAgCQAAJArUACQKFCGAIArAACAKAAAkB9QhgCQK1CGAIArAACQK1CEAIAfAACAKwAAkClQAJAdUIIAgCkAAIAdAACQKFAAkBxQjACAKAAAgBwAAJAoZACQHGSGAIAoAACAHAAAkCZkAJAaZIwAgCYAAIAaAACQKVUAkB1VhACAKQAAgB0AAJAqUACQHlCCAIAqAACAHgAAkCtQAJAfUIYAgCsAAJAtUIYAgB8AAIAtAACQL1CEAIAvAACQL1CCAIAvAIgA/y8A\");\n",
       "                        });\n",
       "                </script>"
      ],
      "text/plain": [
       "<IPython.core.display.HTML object>"
      ]
     },
     "metadata": {},
     "output_type": "display_data"
    },
    {
     "name": "stdout",
     "output_type": "stream",
     "text": [
      "Listen and take a Guess... 0 - Bach , 1 Beethoven, 2 - Brahams, 3 - Schubert \n",
      "Guess ??? :  2\n"
     ]
    },
    {
     "data": {
      "text/html": [
       "\n",
       "                <div id=\"midiPlayerDiv793590\"></div>\n",
       "                <link rel=\"stylesheet\" href=\"//cuthbertLab.github.io/music21j/css/m21.css\"\n",
       "                    type=\"text/css\" />\n",
       "                \n",
       "                <script>\n",
       "                require.config({\n",
       "                    paths: {'music21': '//cuthbertLab.github.io/music21j/src/music21'}\n",
       "                });\n",
       "                require(['music21'], function() {\n",
       "                               mp = new music21.miditools.MidiPlayer();\n",
       "                               mp.addPlayer(\"#midiPlayerDiv793590\");\n",
       "                               mp.base64Load(\"data:audio/midi;base64,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\");\n",
       "                        });\n",
       "                </script>"
      ],
      "text/plain": [
       "<IPython.core.display.HTML object>"
      ]
     },
     "metadata": {},
     "output_type": "display_data"
    },
    {
     "name": "stdout",
     "output_type": "stream",
     "text": [
      "Listen and take a Guess... 0 - Bach , 1 Beethoven, 2 - Brahams, 3 - Schubert \n",
      "Guess ??? :  3\n"
     ]
    }
   ],
   "source": [
    "guess_list = []\n",
    "\n",
    "for composer,index in clip_indices: \n",
    "    \n",
    "    index = int(index)\n",
    "    \n",
    "    clip_stream = composer_clips[composer][index].stream\n",
    "\n",
    "    clip_stream.show('midi')\n",
    "    \n",
    "    print(\"Listen and take a Guess... 0 - Bach , 1 Beethoven, 2 - Brahams, 3 - Schubert \")\n",
    "    \n",
    "    guess_list.append(Composers[int(input(f\"Guess ??? :  \"))])"
   ]
  },
  {
   "cell_type": "code",
   "execution_count": 38,
   "id": "00861e83",
   "metadata": {},
   "outputs": [
    {
     "name": "stdout",
     "output_type": "stream",
     "text": [
      "Guess:  ['Bach', 'Brahms', 'Beethoven', 'Beethoven', 'Brahms', 'Schubert', 'Brahms', 'Schubert', 'Brahms', 'Beethoven', 'Brahms', 'Schubert']\n",
      "Answers:  ['Bach', 'Brahms', 'Schubert', 'Brahms', 'Beethoven', 'Bach', 'Brahms', 'Beethoven', 'Schubert', 'Schubert', 'Beethoven', 'Bach']\n"
     ]
    }
   ],
   "source": [
    "print('Guess: ',guess_list)\n",
    "    \n",
    "answers = [c for c,i in clip_indices]\n",
    "\n",
    "print('Answers: ',answers)"
   ]
  },
  {
   "cell_type": "code",
   "execution_count": 44,
   "id": "80be7c8c",
   "metadata": {},
   "outputs": [
    {
     "name": "stdout",
     "output_type": "stream",
     "text": [
      "You got 3 of our 12 = 0.25 accuracy\n"
     ]
    }
   ],
   "source": [
    "number_correct = sum([guess_list[i]==answers[i] for i in range(12)])\n",
    "\n",
    "print(f'You got {number_correct} of our {12} = {number_correct/12} accuracy')"
   ]
  },
  {
   "cell_type": "markdown",
   "id": "f012d5fb",
   "metadata": {},
   "source": [
    "## Lessons ? \n",
    "\n",
    "\n",
    "* after trying the experiment, I got 0.3 accuracy, and I only got 1 Bach correct, so my intuition that I could recognize BACH misguided maybe\n",
    "\n",
    "* listening helped me see the task is pretty, at least for me someone not a classical music lover , regular listener \n",
    "\n",
    "* going to update my rough guess by subtracting ~0.1 percent , these are just to keep in mind later when thinking about ideal ML model performance \n",
    "\n",
    "\n",
    "\n",
    "\n",
    "\n"
   ]
  },
  {
   "cell_type": "markdown",
   "id": "9ae67fdd",
   "metadata": {},
   "source": [
    "Revised Hypothesis: \n",
    "\n",
    "* Avg person: ~0.4 acc for Bach or Not , ~0.2-0.3 acc for picking between the four \n",
    "\n",
    "    \n",
    "* Expert Classical musician: ~0.8 Bach or Not , ~0.7-0.8 all four\n",
    "\n",
    "    \n",
    "* Bayes Optimal:~0.9 - 1.0 Bach or Nto , ~0.9 all four\n",
    "\n",
    "  "
   ]
  },
  {
   "cell_type": "code",
   "execution_count": null,
   "id": "a33c476c",
   "metadata": {},
   "outputs": [],
   "source": []
  }
 ],
 "metadata": {
  "kernelspec": {
   "display_name": "Python 3 (ipykernel)",
   "language": "python",
   "name": "python3"
  },
  "language_info": {
   "codemirror_mode": {
    "name": "ipython",
    "version": 3
   },
   "file_extension": ".py",
   "mimetype": "text/x-python",
   "name": "python",
   "nbconvert_exporter": "python",
   "pygments_lexer": "ipython3",
   "version": "3.10.8"
  }
 },
 "nbformat": 4,
 "nbformat_minor": 5
}
