{
 "cells": [
  {
   "cell_type": "code",
   "execution_count": 94,
   "id": "4ef063a8",
   "metadata": {},
   "outputs": [],
   "source": [
    "from sklearn.metrics import confusion_matrix\n",
    "from sklearn.model_selection import train_test_split\n",
    "from sklearn import svm, datasets\n",
    "import matplotlib.pyplot as plt\n",
    "import numpy as np\n",
    "import pandas as pd\n",
    "\n",
    "%matplotlib inline"
   ]
  },
  {
   "cell_type": "code",
   "execution_count": 95,
   "id": "1819a5e6",
   "metadata": {},
   "outputs": [
    {
     "data": {
      "text/html": [
       "<div>\n",
       "<style scoped>\n",
       "    .dataframe tbody tr th:only-of-type {\n",
       "        vertical-align: middle;\n",
       "    }\n",
       "\n",
       "    .dataframe tbody tr th {\n",
       "        vertical-align: top;\n",
       "    }\n",
       "\n",
       "    .dataframe thead th {\n",
       "        text-align: right;\n",
       "    }\n",
       "</style>\n",
       "<table border=\"1\" class=\"dataframe\">\n",
       "  <thead>\n",
       "    <tr style=\"text-align: right;\">\n",
       "      <th></th>\n",
       "      <th>Range</th>\n",
       "      <th>PitchVariety</th>\n",
       "      <th>NumberOfCommonPitches</th>\n",
       "      <th>IntervalBetweenStrongestPitches</th>\n",
       "      <th>MostCommonPitchPrevalence</th>\n",
       "      <th>NoteDensity</th>\n",
       "      <th>AmountOfArpeggiation</th>\n",
       "      <th>MinimumNoteDuration</th>\n",
       "      <th>StepwiseMotion</th>\n",
       "      <th>IntervalBetweenStrongestPitchClasses</th>\n",
       "      <th>...</th>\n",
       "      <th>VariabilityOfNoteDuration</th>\n",
       "      <th>MelodicOctaves</th>\n",
       "      <th>PitchClassVariety</th>\n",
       "      <th>DistanceBetweenMostCommonMelodicIntervals</th>\n",
       "      <th>MostCommonPitchClass</th>\n",
       "      <th>MelodicTritones</th>\n",
       "      <th>RelativeStrengthOfTopPitchClasses</th>\n",
       "      <th>DirectionOfMotion</th>\n",
       "      <th>Composer_name</th>\n",
       "      <th>Composer_label</th>\n",
       "    </tr>\n",
       "  </thead>\n",
       "  <tbody>\n",
       "    <tr>\n",
       "      <th>0</th>\n",
       "      <td>29.0</td>\n",
       "      <td>22.0</td>\n",
       "      <td>5.0</td>\n",
       "      <td>5.0</td>\n",
       "      <td>0.126263</td>\n",
       "      <td>6.439024</td>\n",
       "      <td>0.384615</td>\n",
       "      <td>0.125</td>\n",
       "      <td>0.538462</td>\n",
       "      <td>2.0</td>\n",
       "      <td>...</td>\n",
       "      <td>0.078750</td>\n",
       "      <td>0.015385</td>\n",
       "      <td>11.0</td>\n",
       "      <td>1.0</td>\n",
       "      <td>7.0</td>\n",
       "      <td>0.005128</td>\n",
       "      <td>0.906250</td>\n",
       "      <td>0.521212</td>\n",
       "      <td>Bach</td>\n",
       "      <td>0.0</td>\n",
       "    </tr>\n",
       "    <tr>\n",
       "      <th>1</th>\n",
       "      <td>24.0</td>\n",
       "      <td>20.0</td>\n",
       "      <td>2.0</td>\n",
       "      <td>7.0</td>\n",
       "      <td>0.229592</td>\n",
       "      <td>6.373984</td>\n",
       "      <td>0.463918</td>\n",
       "      <td>0.125</td>\n",
       "      <td>0.427835</td>\n",
       "      <td>5.0</td>\n",
       "      <td>...</td>\n",
       "      <td>0.082307</td>\n",
       "      <td>0.020619</td>\n",
       "      <td>11.0</td>\n",
       "      <td>2.0</td>\n",
       "      <td>2.0</td>\n",
       "      <td>0.005155</td>\n",
       "      <td>0.666667</td>\n",
       "      <td>0.541667</td>\n",
       "      <td>Bach</td>\n",
       "      <td>0.0</td>\n",
       "    </tr>\n",
       "    <tr>\n",
       "      <th>2</th>\n",
       "      <td>24.0</td>\n",
       "      <td>19.0</td>\n",
       "      <td>2.0</td>\n",
       "      <td>7.0</td>\n",
       "      <td>0.247475</td>\n",
       "      <td>6.439024</td>\n",
       "      <td>0.474490</td>\n",
       "      <td>0.125</td>\n",
       "      <td>0.433673</td>\n",
       "      <td>5.0</td>\n",
       "      <td>...</td>\n",
       "      <td>0.084916</td>\n",
       "      <td>0.025510</td>\n",
       "      <td>11.0</td>\n",
       "      <td>2.0</td>\n",
       "      <td>2.0</td>\n",
       "      <td>0.000000</td>\n",
       "      <td>0.684211</td>\n",
       "      <td>0.513889</td>\n",
       "      <td>Bach</td>\n",
       "      <td>0.0</td>\n",
       "    </tr>\n",
       "    <tr>\n",
       "      <th>3</th>\n",
       "      <td>24.0</td>\n",
       "      <td>20.0</td>\n",
       "      <td>2.0</td>\n",
       "      <td>7.0</td>\n",
       "      <td>0.242268</td>\n",
       "      <td>6.308943</td>\n",
       "      <td>0.484375</td>\n",
       "      <td>0.125</td>\n",
       "      <td>0.442708</td>\n",
       "      <td>5.0</td>\n",
       "      <td>...</td>\n",
       "      <td>0.082494</td>\n",
       "      <td>0.020833</td>\n",
       "      <td>11.0</td>\n",
       "      <td>2.0</td>\n",
       "      <td>2.0</td>\n",
       "      <td>0.005208</td>\n",
       "      <td>0.627119</td>\n",
       "      <td>0.503597</td>\n",
       "      <td>Bach</td>\n",
       "      <td>0.0</td>\n",
       "    </tr>\n",
       "    <tr>\n",
       "      <th>4</th>\n",
       "      <td>48.0</td>\n",
       "      <td>46.0</td>\n",
       "      <td>2.0</td>\n",
       "      <td>2.0</td>\n",
       "      <td>0.099631</td>\n",
       "      <td>15.875000</td>\n",
       "      <td>0.252066</td>\n",
       "      <td>0.125</td>\n",
       "      <td>0.634298</td>\n",
       "      <td>2.0</td>\n",
       "      <td>...</td>\n",
       "      <td>0.120471</td>\n",
       "      <td>0.037190</td>\n",
       "      <td>12.0</td>\n",
       "      <td>1.0</td>\n",
       "      <td>6.0</td>\n",
       "      <td>0.020661</td>\n",
       "      <td>0.941860</td>\n",
       "      <td>0.381148</td>\n",
       "      <td>Bach</td>\n",
       "      <td>0.0</td>\n",
       "    </tr>\n",
       "  </tbody>\n",
       "</table>\n",
       "<p>5 rows × 24 columns</p>\n",
       "</div>"
      ],
      "text/plain": [
       "   Range  PitchVariety  NumberOfCommonPitches  \\\n",
       "0   29.0          22.0                    5.0   \n",
       "1   24.0          20.0                    2.0   \n",
       "2   24.0          19.0                    2.0   \n",
       "3   24.0          20.0                    2.0   \n",
       "4   48.0          46.0                    2.0   \n",
       "\n",
       "   IntervalBetweenStrongestPitches  MostCommonPitchPrevalence  NoteDensity  \\\n",
       "0                              5.0                   0.126263     6.439024   \n",
       "1                              7.0                   0.229592     6.373984   \n",
       "2                              7.0                   0.247475     6.439024   \n",
       "3                              7.0                   0.242268     6.308943   \n",
       "4                              2.0                   0.099631    15.875000   \n",
       "\n",
       "   AmountOfArpeggiation  MinimumNoteDuration  StepwiseMotion  \\\n",
       "0              0.384615                0.125        0.538462   \n",
       "1              0.463918                0.125        0.427835   \n",
       "2              0.474490                0.125        0.433673   \n",
       "3              0.484375                0.125        0.442708   \n",
       "4              0.252066                0.125        0.634298   \n",
       "\n",
       "   IntervalBetweenStrongestPitchClasses  ...  VariabilityOfNoteDuration  \\\n",
       "0                                   2.0  ...                   0.078750   \n",
       "1                                   5.0  ...                   0.082307   \n",
       "2                                   5.0  ...                   0.084916   \n",
       "3                                   5.0  ...                   0.082494   \n",
       "4                                   2.0  ...                   0.120471   \n",
       "\n",
       "   MelodicOctaves  PitchClassVariety  \\\n",
       "0        0.015385               11.0   \n",
       "1        0.020619               11.0   \n",
       "2        0.025510               11.0   \n",
       "3        0.020833               11.0   \n",
       "4        0.037190               12.0   \n",
       "\n",
       "   DistanceBetweenMostCommonMelodicIntervals  MostCommonPitchClass  \\\n",
       "0                                        1.0                   7.0   \n",
       "1                                        2.0                   2.0   \n",
       "2                                        2.0                   2.0   \n",
       "3                                        2.0                   2.0   \n",
       "4                                        1.0                   6.0   \n",
       "\n",
       "   MelodicTritones  RelativeStrengthOfTopPitchClasses  DirectionOfMotion  \\\n",
       "0         0.005128                           0.906250           0.521212   \n",
       "1         0.005155                           0.666667           0.541667   \n",
       "2         0.000000                           0.684211           0.513889   \n",
       "3         0.005208                           0.627119           0.503597   \n",
       "4         0.020661                           0.941860           0.381148   \n",
       "\n",
       "   Composer_name  Composer_label  \n",
       "0           Bach             0.0  \n",
       "1           Bach             0.0  \n",
       "2           Bach             0.0  \n",
       "3           Bach             0.0  \n",
       "4           Bach             0.0  \n",
       "\n",
       "[5 rows x 24 columns]"
      ]
     },
     "execution_count": 95,
     "metadata": {},
     "output_type": "execute_result"
    }
   ],
   "source": [
    "data_dir = './DataStreamFeatures/DataFrames/'\n",
    "\n",
    "df_best_features = pd.read_csv(data_dir + 'BestMusicFeatures.csv')\n",
    "\n",
    "df_best_features.head()"
   ]
  },
  {
   "cell_type": "code",
   "execution_count": 96,
   "id": "755fd7fb",
   "metadata": {},
   "outputs": [
    {
     "name": "stdout",
     "output_type": "stream",
     "text": [
      "240 samples with 22 features each <class 'numpy.ndarray'>\n"
     ]
    }
   ],
   "source": [
    "X = df_best_features.drop(['Composer_name', 'Composer_label'], axis=1)\n",
    "\n",
    "training_features_list = list(X.columns)\n",
    "\n",
    "X = X.to_numpy()\n",
    "\n",
    "m, n = X.shape\n",
    "\n",
    "print(f'{m} samples with {n} features each',type(X))"
   ]
  },
  {
   "cell_type": "code",
   "execution_count": 97,
   "id": "e7c054e1",
   "metadata": {},
   "outputs": [
    {
     "data": {
      "text/plain": [
       "(240,)"
      ]
     },
     "execution_count": 97,
     "metadata": {},
     "output_type": "execute_result"
    }
   ],
   "source": [
    "y = df_best_features['Composer_label'].to_numpy()\n",
    "\n",
    "y.shape"
   ]
  },
  {
   "cell_type": "markdown",
   "id": "c6ad1878",
   "metadata": {},
   "source": [
    "# Scale Features using Standard Scalar"
   ]
  },
  {
   "cell_type": "markdown",
   "id": "06d128f5",
   "metadata": {},
   "source": [
    "# First Trial, take only two features, can then make cool Scatter plots"
   ]
  },
  {
   "cell_type": "code",
   "execution_count": 98,
   "id": "8a887a5b",
   "metadata": {},
   "outputs": [
    {
     "name": "stdout",
     "output_type": "stream",
     "text": [
      "(240, 22)\n",
      "(240, 2)\n"
     ]
    }
   ],
   "source": [
    "print(X.shape)\n",
    "\n",
    "X = X[:,:2]\n",
    "\n",
    "X_train, X_test, y_train, y_test = train_test_split(X, y, train_size=0.85, random_state = 0)\n",
    "\n",
    "# Scaling the Train and Test feature set \n",
    "from sklearn.preprocessing import StandardScaler\n",
    "scaler = StandardScaler()\n",
    "X_train = scaler.fit_transform(X_train)\n",
    "X_test = scaler.transform(X_test)\n",
    "\n",
    "X_scaled = scaler.transform(X)\n",
    "\n",
    "print(X.shape)"
   ]
  },
  {
   "cell_type": "markdown",
   "id": "3dae7f72",
   "metadata": {},
   "source": [
    "Test different kernals some statring parameters"
   ]
  },
  {
   "cell_type": "code",
   "execution_count": 99,
   "id": "5b46f609",
   "metadata": {},
   "outputs": [],
   "source": [
    "linear = svm.SVC(kernel='linear', C=1, decision_function_shape='ovo').fit(X_train, y_train)\n",
    "rbf = svm.SVC(kernel='rbf', gamma=1, C=1, decision_function_shape='ovo').fit(X_train, y_train)\n",
    "poly = svm.SVC(kernel='poly', degree=3, C=1, decision_function_shape='ovo').fit(X_train, y_train)\n",
    "sig = svm.SVC(kernel='sigmoid', C=1, decision_function_shape='ovo').fit(X_train, y_train)"
   ]
  },
  {
   "cell_type": "code",
   "execution_count": 100,
   "id": "47bb07f7",
   "metadata": {},
   "outputs": [],
   "source": [
    "#stepsize in the mesh, it alters the accuracy of the plotprint\n",
    "#to better understand it, just play with the value, change it and print it\n",
    "h = .05\n",
    "#create the mesh\n",
    "x_min, x_max = X_scaled[:, 0].min() - 1, X_scaled[:, 0].max() + 1\n",
    "y_min, y_max = X_scaled[:, 1].min() - 1, X_scaled[:, 1].max() + 1\n",
    "xx, yy = np.meshgrid(np.arange(x_min, x_max, h),np.arange(y_min, y_max, h))\n",
    "# create the title that will be shown on the plot\n",
    "titles = ['Linear kernel','RBF kernel','Polynomial kernel','Sigmoid kernel']"
   ]
  },
  {
   "cell_type": "code",
   "execution_count": 101,
   "id": "d263289f",
   "metadata": {},
   "outputs": [
    {
     "data": {
      "image/png": "[encoded data removed]",
      "text/plain": [
       "<Figure size 640x480 with 1 Axes>"
      ]
     },
     "metadata": {},
     "output_type": "display_data"
    },
    {
     "data": {
      "image/png": "[encoded data removed]",
      "text/plain": [
       "<Figure size 640x480 with 1 Axes>"
      ]
     },
     "metadata": {},
     "output_type": "display_data"
    },
    {
     "data": {
      "image/png": "[encoded data removed]",
      "text/plain": [
       "<Figure size 640x480 with 1 Axes>"
      ]
     },
     "metadata": {},
     "output_type": "display_data"
    },
    {
     "data": {
      "image/png": "[encoded data removed]",
      "text/plain": [
       "<Figure size 640x480 with 1 Axes>"
      ]
     },
     "metadata": {},
     "output_type": "display_data"
    }
   ],
   "source": [
    "for i, clf in enumerate((linear, rbf, poly, sig)):\n",
    "    #defines how many plots: 2 rows, 2columns=> leading to 4 plots\n",
    "    plt.subplot(2, 2, i + 1) #i+1 is the index\n",
    "    #space between plots\n",
    "    plt.subplots_adjust(wspace=0.4, hspace=0.4) \n",
    "    Z = clf.predict(np.c_[xx.ravel(), yy.ravel()])\n",
    "    # Put the result into a color plot\n",
    "    Z = Z.reshape(xx.shape)\n",
    "    plt.contourf(xx, yy, Z, cmap=plt.cm.PuBuGn, alpha=0.7)\n",
    "    # Plot also the training points\n",
    "    plt.scatter(X_scaled[::3, 0], X_scaled[::3, 1], c=y[::3], cmap=plt.cm.PuBuGn,     edgecolors='grey')\n",
    "    plt.xlabel(training_features_list[0])\n",
    "    plt.ylabel(training_features_list[1])\n",
    "    plt.xlim(xx.min(), xx.max())\n",
    "    plt.ylim(yy.min(), yy.max())\n",
    "    plt.xticks(())\n",
    "    plt.yticks(())\n",
    "    plt.title(titles[i])\n",
    "    plt.show()"
   ]
  },
  {
   "cell_type": "code",
   "execution_count": 102,
   "id": "5473a1dd",
   "metadata": {},
   "outputs": [
    {
     "name": "stdout",
     "output_type": "stream",
     "text": [
      "Accuracy Linear Kernel: 0.5\n",
      "Accuracy Polynomial Kernel: 0.5277777777777778\n",
      "Accuracy Radial Basis Kernel: 0.5833333333333334\n",
      "Accuracy Sigmoid Kernel: 0.3055555555555556\n"
     ]
    }
   ],
   "source": [
    "# retrieve the accuracy and print it for all 4 kernel functions\n",
    "accuracy_lin = linear.score(X_test, y_test)\n",
    "accuracy_poly = poly.score(X_test, y_test)\n",
    "accuracy_rbf = rbf.score(X_test, y_test)\n",
    "accuracy_sig = sig.score(X_test, y_test)\n",
    "print('Accuracy Linear Kernel:', accuracy_lin)\n",
    "print('Accuracy Polynomial Kernel:', accuracy_poly)\n",
    "print('Accuracy Radial Basis Kernel:', accuracy_rbf)\n",
    "print('Accuracy Sigmoid Kernel:', accuracy_sig)"
   ]
  },
  {
   "cell_type": "markdown",
   "id": "4b99ffcf",
   "metadata": {},
   "source": [
    "# Try with Full list of Features, same parameters"
   ]
  },
  {
   "cell_type": "code",
   "execution_count": 103,
   "id": "e4af3e09",
   "metadata": {},
   "outputs": [
    {
     "name": "stdout",
     "output_type": "stream",
     "text": [
      "240 samples with 22 features each <class 'numpy.ndarray'>\n",
      "(240, 22)\n"
     ]
    }
   ],
   "source": [
    "X = df_best_features.drop(['Composer_name', 'Composer_label'], axis=1)\n",
    "\n",
    "training_features_list = list(X.columns)\n",
    "\n",
    "X = X.to_numpy()\n",
    "\n",
    "m, n = X.shape\n",
    "\n",
    "print(f'{m} samples with {n} features each',type(X))\n",
    "\n",
    "X_train, X_test, y_train, y_test = train_test_split(X, y, train_size=0.85, random_state = 0)\n",
    "\n",
    "# Scaling the Train and Test feature set \n",
    "from sklearn.preprocessing import StandardScaler\n",
    "scaler = StandardScaler()\n",
    "X_train = scaler.fit_transform(X_train)\n",
    "X_test = scaler.transform(X_test)\n",
    "\n",
    "X_scaled = scaler.transform(X)\n",
    "\n",
    "print(X_scaled.shape)"
   ]
  },
  {
   "cell_type": "code",
   "execution_count": 104,
   "id": "1a0caeb3",
   "metadata": {},
   "outputs": [],
   "source": [
    "linear_all = svm.SVC(kernel='linear', C=1, decision_function_shape='ovo').fit(X_train, y_train)\n",
    "rbf_all = svm.SVC(kernel='rbf', gamma=1, C=1, decision_function_shape='ovo').fit(X_train, y_train)\n",
    "poly_all = svm.SVC(kernel='poly', degree=3, C=1, decision_function_shape='ovo').fit(X_train, y_train)\n",
    "sig_all = svm.SVC(kernel='sigmoid', C=1, decision_function_shape='ovo').fit(X_train, y_train)"
   ]
  },
  {
   "cell_type": "code",
   "execution_count": 105,
   "id": "18a92752",
   "metadata": {},
   "outputs": [
    {
     "name": "stdout",
     "output_type": "stream",
     "text": [
      "Accuracy Linear Kernel: 0.6388888888888888\n",
      "Accuracy Polynomial Kernel: 0.6111111111111112\n",
      "Accuracy Radial Basis Kernel: 0.3888888888888889\n",
      "Accuracy Sigmoid Kernel: 0.6111111111111112\n"
     ]
    }
   ],
   "source": [
    "# retrieve the accuracy and print it for all 4 kernel functions\n",
    "accuracy_lin_all = linear_all.score(X_test, y_test)\n",
    "accuracy_poly_all = poly_all.score(X_test, y_test)\n",
    "accuracy_rbf_all = rbf_all.score(X_test, y_test)\n",
    "accuracy_sig_all = sig_all.score(X_test, y_test)\n",
    "print('Accuracy Linear Kernel:', accuracy_lin_all)\n",
    "print('Accuracy Polynomial Kernel:', accuracy_poly_all)\n",
    "print('Accuracy Radial Basis Kernel:', accuracy_rbf_all)\n",
    "print('Accuracy Sigmoid Kernel:', accuracy_sig_all)"
   ]
  },
  {
   "cell_type": "markdown",
   "id": "5049acbd",
   "metadata": {},
   "source": [
    "# Try Grid Search for Linear and Polynomial Kernels , which seem to work best\n",
    "\n",
    "- based on grid search example in scikit learn documentation [Grid Search SV](https://scikit-learn.org/stable/auto_examples/model_selection/plot_grid_search_stats.html)"
   ]
  },
  {
   "cell_type": "code",
   "execution_count": 119,
   "id": "eb9e5f5a",
   "metadata": {},
   "outputs": [
    {
     "name": "stdout",
     "output_type": "stream",
     "text": [
      "240 samples with 22 features each <class 'numpy.ndarray'>\n",
      "(240, 22)\n"
     ]
    }
   ],
   "source": [
    "## will use cross validation for the grid search... \n",
    "\n",
    "X = df_best_features.drop(['Composer_name', 'Composer_label'], axis=1)\n",
    "\n",
    "training_features_list = list(X.columns)\n",
    "\n",
    "X = X.to_numpy()\n",
    "\n",
    "m, n = X.shape\n",
    "\n",
    "print(f'{m} samples with {n} features each',type(X))\n",
    "\n",
    "\n",
    "#X_train, X_test, y_train, y_test = train_test_split(X, y, train_size=0.85, random_state = 0)\n",
    "\n",
    "# Scaling the Train and Test feature set \n",
    "from sklearn.preprocessing import StandardScaler\n",
    "scaler = StandardScaler()\n",
    "#X_train = scaler.fit_transform(X_train)\n",
    "#X_test = scaler.transform(X_test)\n",
    "\n",
    "#Scale X and take all X and y\n",
    "\n",
    "X_scaled = scaler.fit_transform(X)\n",
    "\n",
    "print(X.shape)"
   ]
  },
  {
   "cell_type": "code",
   "execution_count": 120,
   "id": "457ebc2d",
   "metadata": {},
   "outputs": [
    {
     "data": {
      "text/html": [
       "<style>#sk-container-id-5 {color: black;background-color: white;}#sk-container-id-5 pre{padding: 0;}#sk-container-id-5 div.sk-toggleable {background-color: white;}#sk-container-id-5 label.sk-toggleable__label {cursor: pointer;display: block;width: 100%;margin-bottom: 0;padding: 0.3em;box-sizing: border-box;text-align: center;}#sk-container-id-5 label.sk-toggleable__label-arrow:before {content: \"▸\";float: left;margin-right: 0.25em;color: #696969;}#sk-container-id-5 label.sk-toggleable__label-arrow:hover:before {color: black;}#sk-container-id-5 div.sk-estimator:hover label.sk-toggleable__label-arrow:before {color: black;}#sk-container-id-5 div.sk-toggleable__content {max-height: 0;max-width: 0;overflow: hidden;text-align: left;background-color: #f0f8ff;}#sk-container-id-5 div.sk-toggleable__content pre {margin: 0.2em;color: black;border-radius: 0.25em;background-color: #f0f8ff;}#sk-container-id-5 input.sk-toggleable__control:checked~div.sk-toggleable__content {max-height: 200px;max-width: 100%;overflow: auto;}#sk-container-id-5 input.sk-toggleable__control:checked~label.sk-toggleable__label-arrow:before {content: \"▾\";}#sk-container-id-5 div.sk-estimator input.sk-toggleable__control:checked~label.sk-toggleable__label {background-color: #d4ebff;}#sk-container-id-5 div.sk-label input.sk-toggleable__control:checked~label.sk-toggleable__label {background-color: #d4ebff;}#sk-container-id-5 input.sk-hidden--visually {border: 0;clip: rect(1px 1px 1px 1px);clip: rect(1px, 1px, 1px, 1px);height: 1px;margin: -1px;overflow: hidden;padding: 0;position: absolute;width: 1px;}#sk-container-id-5 div.sk-estimator {font-family: monospace;background-color: #f0f8ff;border: 1px dotted black;border-radius: 0.25em;box-sizing: border-box;margin-bottom: 0.5em;}#sk-container-id-5 div.sk-estimator:hover {background-color: #d4ebff;}#sk-container-id-5 div.sk-parallel-item::after {content: \"\";width: 100%;border-bottom: 1px solid gray;flex-grow: 1;}#sk-container-id-5 div.sk-label:hover label.sk-toggleable__label {background-color: #d4ebff;}#sk-container-id-5 div.sk-serial::before {content: \"\";position: absolute;border-left: 1px solid gray;box-sizing: border-box;top: 0;bottom: 0;left: 50%;z-index: 0;}#sk-container-id-5 div.sk-serial {display: flex;flex-direction: column;align-items: center;background-color: white;padding-right: 0.2em;padding-left: 0.2em;position: relative;}#sk-container-id-5 div.sk-item {position: relative;z-index: 1;}#sk-container-id-5 div.sk-parallel {display: flex;align-items: stretch;justify-content: center;background-color: white;position: relative;}#sk-container-id-5 div.sk-item::before, #sk-container-id-5 div.sk-parallel-item::before {content: \"\";position: absolute;border-left: 1px solid gray;box-sizing: border-box;top: 0;bottom: 0;left: 50%;z-index: -1;}#sk-container-id-5 div.sk-parallel-item {display: flex;flex-direction: column;z-index: 1;position: relative;background-color: white;}#sk-container-id-5 div.sk-parallel-item:first-child::after {align-self: flex-end;width: 50%;}#sk-container-id-5 div.sk-parallel-item:last-child::after {align-self: flex-start;width: 50%;}#sk-container-id-5 div.sk-parallel-item:only-child::after {width: 0;}#sk-container-id-5 div.sk-dashed-wrapped {border: 1px dashed gray;margin: 0 0.4em 0.5em 0.4em;box-sizing: border-box;padding-bottom: 0.4em;background-color: white;}#sk-container-id-5 div.sk-label label {font-family: monospace;font-weight: bold;display: inline-block;line-height: 1.2em;}#sk-container-id-5 div.sk-label-container {text-align: center;}#sk-container-id-5 div.sk-container {/* jupyter's `normalize.less` sets `[hidden] { display: none; }` but bootstrap.min.css set `[hidden] { display: none !important; }` so we also need the `!important` here to be able to override the default hidden behavior on the sphinx rendered scikit-learn.org. See: https://github.com/scikit-learn/scikit-learn/issues/21755 */display: inline-block !important;position: relative;}#sk-container-id-5 div.sk-text-repr-fallback {display: none;}</style><div id=\"sk-container-id-5\" class=\"sk-top-container\"><div class=\"sk-text-repr-fallback\"><pre>GridSearchCV(cv=RepeatedStratifiedKFold(n_repeats=5, n_splits=5, random_state=0),\n",
       "             estimator=SVC(random_state=0),\n",
       "             param_grid=[{&#x27;C&#x27;: [10, 100, 1000, 10000], &#x27;kernel&#x27;: [&#x27;linear&#x27;]},\n",
       "                         {&#x27;C&#x27;: [10, 100, 1000, 10000], &#x27;kernel&#x27;: [&#x27;sigmoid&#x27;]},\n",
       "                         {&#x27;C&#x27;: [10, 100, 1000, 10000], &#x27;gamma&#x27;: [0.01, 0.001],\n",
       "                          &#x27;kernel&#x27;: [&#x27;rbf&#x27;]}])</pre><b>In a Jupyter environment, please rerun this cell to show the HTML representation or trust the notebook. <br />On GitHub, the HTML representation is unable to render, please try loading this page with nbviewer.org.</b></div><div class=\"sk-container\" hidden><div class=\"sk-item sk-dashed-wrapped\"><div class=\"sk-label-container\"><div class=\"sk-label sk-toggleable\"><input class=\"sk-toggleable__control sk-hidden--visually\" id=\"sk-estimator-id-13\" type=\"checkbox\" ><label for=\"sk-estimator-id-13\" class=\"sk-toggleable__label sk-toggleable__label-arrow\">GridSearchCV</label><div class=\"sk-toggleable__content\"><pre>GridSearchCV(cv=RepeatedStratifiedKFold(n_repeats=5, n_splits=5, random_state=0),\n",
       "             estimator=SVC(random_state=0),\n",
       "             param_grid=[{&#x27;C&#x27;: [10, 100, 1000, 10000], &#x27;kernel&#x27;: [&#x27;linear&#x27;]},\n",
       "                         {&#x27;C&#x27;: [10, 100, 1000, 10000], &#x27;kernel&#x27;: [&#x27;sigmoid&#x27;]},\n",
       "                         {&#x27;C&#x27;: [10, 100, 1000, 10000], &#x27;gamma&#x27;: [0.01, 0.001],\n",
       "                          &#x27;kernel&#x27;: [&#x27;rbf&#x27;]}])</pre></div></div></div><div class=\"sk-parallel\"><div class=\"sk-parallel-item\"><div class=\"sk-item\"><div class=\"sk-label-container\"><div class=\"sk-label sk-toggleable\"><input class=\"sk-toggleable__control sk-hidden--visually\" id=\"sk-estimator-id-14\" type=\"checkbox\" ><label for=\"sk-estimator-id-14\" class=\"sk-toggleable__label sk-toggleable__label-arrow\">estimator: SVC</label><div class=\"sk-toggleable__content\"><pre>SVC(random_state=0)</pre></div></div></div><div class=\"sk-serial\"><div class=\"sk-item\"><div class=\"sk-estimator sk-toggleable\"><input class=\"sk-toggleable__control sk-hidden--visually\" id=\"sk-estimator-id-15\" type=\"checkbox\" ><label for=\"sk-estimator-id-15\" class=\"sk-toggleable__label sk-toggleable__label-arrow\">SVC</label><div class=\"sk-toggleable__content\"><pre>SVC(random_state=0)</pre></div></div></div></div></div></div></div></div></div></div>"
      ],
      "text/plain": [
       "GridSearchCV(cv=RepeatedStratifiedKFold(n_repeats=5, n_splits=5, random_state=0),\n",
       "             estimator=SVC(random_state=0),\n",
       "             param_grid=[{'C': [10, 100, 1000, 10000], 'kernel': ['linear']},\n",
       "                         {'C': [10, 100, 1000, 10000], 'kernel': ['sigmoid']},\n",
       "                         {'C': [10, 100, 1000, 10000], 'gamma': [0.01, 0.001],\n",
       "                          'kernel': ['rbf']}])"
      ]
     },
     "execution_count": 120,
     "metadata": {},
     "output_type": "execute_result"
    }
   ],
   "source": [
    "from sklearn.model_selection import GridSearchCV, RepeatedStratifiedKFold\n",
    "from sklearn.svm import SVC\n",
    "\n",
    "param_grid = [{'kernel': ['linear'],'C': [10, 100, 1000,10000]},\n",
    "                {'kernel': ['sigmoid'], 'C': [10, 100, 1000,10000]},\n",
    "              {'kernel': ['rbf'], 'gamma': [1e-2,1e-3],\n",
    "                     'C': [10, 100, 1000,10000]}]\n",
    "\n",
    "# not sure why, grid search didn't like the polynomial kernel...\n",
    "\n",
    "svc = SVC(random_state=0)\n",
    "\n",
    "cv = RepeatedStratifiedKFold(n_splits=5, n_repeats=5, random_state=0)\n",
    "\n",
    "search = GridSearchCV(estimator=svc, param_grid=param_grid, cv=cv)\n",
    "search.fit(X_scaled, y)"
   ]
  },
  {
   "cell_type": "code",
   "execution_count": 121,
   "id": "b74a6047",
   "metadata": {},
   "outputs": [
    {
     "data": {
      "text/html": [
       "<div>\n",
       "<style scoped>\n",
       "    .dataframe tbody tr th:only-of-type {\n",
       "        vertical-align: middle;\n",
       "    }\n",
       "\n",
       "    .dataframe tbody tr th {\n",
       "        vertical-align: top;\n",
       "    }\n",
       "\n",
       "    .dataframe thead th {\n",
       "        text-align: right;\n",
       "    }\n",
       "</style>\n",
       "<table border=\"1\" class=\"dataframe\">\n",
       "  <thead>\n",
       "    <tr style=\"text-align: right;\">\n",
       "      <th></th>\n",
       "      <th>params</th>\n",
       "      <th>rank_test_score</th>\n",
       "      <th>mean_test_score</th>\n",
       "      <th>std_test_score</th>\n",
       "    </tr>\n",
       "    <tr>\n",
       "      <th>kernel</th>\n",
       "      <th></th>\n",
       "      <th></th>\n",
       "      <th></th>\n",
       "      <th></th>\n",
       "    </tr>\n",
       "  </thead>\n",
       "  <tbody>\n",
       "    <tr>\n",
       "      <th>1000_0.01_rbf</th>\n",
       "      <td>{'C': 1000, 'gamma': 0.01, 'kernel': 'rbf'}</td>\n",
       "      <td>1</td>\n",
       "      <td>0.664167</td>\n",
       "      <td>0.065171</td>\n",
       "    </tr>\n",
       "    <tr>\n",
       "      <th>10000_0.01_rbf</th>\n",
       "      <td>{'C': 10000, 'gamma': 0.01, 'kernel': 'rbf'}</td>\n",
       "      <td>1</td>\n",
       "      <td>0.664167</td>\n",
       "      <td>0.065171</td>\n",
       "    </tr>\n",
       "    <tr>\n",
       "      <th>100_0.01_rbf</th>\n",
       "      <td>{'C': 100, 'gamma': 0.01, 'kernel': 'rbf'}</td>\n",
       "      <td>3</td>\n",
       "      <td>0.658333</td>\n",
       "      <td>0.065085</td>\n",
       "    </tr>\n",
       "    <tr>\n",
       "      <th>10000_0.001_rbf</th>\n",
       "      <td>{'C': 10000, 'gamma': 0.001, 'kernel': 'rbf'}</td>\n",
       "      <td>4</td>\n",
       "      <td>0.634167</td>\n",
       "      <td>0.063487</td>\n",
       "    </tr>\n",
       "    <tr>\n",
       "      <th>10_0.01_rbf</th>\n",
       "      <td>{'C': 10, 'gamma': 0.01, 'kernel': 'rbf'}</td>\n",
       "      <td>5</td>\n",
       "      <td>0.619167</td>\n",
       "      <td>0.070593</td>\n",
       "    </tr>\n",
       "    <tr>\n",
       "      <th>1000_0.001_rbf</th>\n",
       "      <td>{'C': 1000, 'gamma': 0.001, 'kernel': 'rbf'}</td>\n",
       "      <td>6</td>\n",
       "      <td>0.618333</td>\n",
       "      <td>0.066332</td>\n",
       "    </tr>\n",
       "    <tr>\n",
       "      <th>100_linear</th>\n",
       "      <td>{'C': 100, 'kernel': 'linear'}</td>\n",
       "      <td>7</td>\n",
       "      <td>0.613333</td>\n",
       "      <td>0.070484</td>\n",
       "    </tr>\n",
       "    <tr>\n",
       "      <th>10000_linear</th>\n",
       "      <td>{'C': 10000, 'kernel': 'linear'}</td>\n",
       "      <td>8</td>\n",
       "      <td>0.610833</td>\n",
       "      <td>0.066594</td>\n",
       "    </tr>\n",
       "    <tr>\n",
       "      <th>1000_linear</th>\n",
       "      <td>{'C': 1000, 'kernel': 'linear'}</td>\n",
       "      <td>9</td>\n",
       "      <td>0.608333</td>\n",
       "      <td>0.066406</td>\n",
       "    </tr>\n",
       "    <tr>\n",
       "      <th>10_linear</th>\n",
       "      <td>{'C': 10, 'kernel': 'linear'}</td>\n",
       "      <td>10</td>\n",
       "      <td>0.601667</td>\n",
       "      <td>0.072725</td>\n",
       "    </tr>\n",
       "    <tr>\n",
       "      <th>100_0.001_rbf</th>\n",
       "      <td>{'C': 100, 'gamma': 0.001, 'kernel': 'rbf'}</td>\n",
       "      <td>11</td>\n",
       "      <td>0.581667</td>\n",
       "      <td>0.065860</td>\n",
       "    </tr>\n",
       "    <tr>\n",
       "      <th>10_0.001_rbf</th>\n",
       "      <td>{'C': 10, 'gamma': 0.001, 'kernel': 'rbf'}</td>\n",
       "      <td>12</td>\n",
       "      <td>0.573333</td>\n",
       "      <td>0.074096</td>\n",
       "    </tr>\n",
       "    <tr>\n",
       "      <th>10_sigmoid</th>\n",
       "      <td>{'C': 10, 'kernel': 'sigmoid'}</td>\n",
       "      <td>13</td>\n",
       "      <td>0.497500</td>\n",
       "      <td>0.056001</td>\n",
       "    </tr>\n",
       "    <tr>\n",
       "      <th>1000_sigmoid</th>\n",
       "      <td>{'C': 1000, 'kernel': 'sigmoid'}</td>\n",
       "      <td>14</td>\n",
       "      <td>0.493333</td>\n",
       "      <td>0.054237</td>\n",
       "    </tr>\n",
       "    <tr>\n",
       "      <th>10000_sigmoid</th>\n",
       "      <td>{'C': 10000, 'kernel': 'sigmoid'}</td>\n",
       "      <td>15</td>\n",
       "      <td>0.491667</td>\n",
       "      <td>0.063191</td>\n",
       "    </tr>\n",
       "    <tr>\n",
       "      <th>100_sigmoid</th>\n",
       "      <td>{'C': 100, 'kernel': 'sigmoid'}</td>\n",
       "      <td>16</td>\n",
       "      <td>0.483333</td>\n",
       "      <td>0.064550</td>\n",
       "    </tr>\n",
       "  </tbody>\n",
       "</table>\n",
       "</div>"
      ],
      "text/plain": [
       "                                                        params  \\\n",
       "kernel                                                           \n",
       "1000_0.01_rbf      {'C': 1000, 'gamma': 0.01, 'kernel': 'rbf'}   \n",
       "10000_0.01_rbf    {'C': 10000, 'gamma': 0.01, 'kernel': 'rbf'}   \n",
       "100_0.01_rbf        {'C': 100, 'gamma': 0.01, 'kernel': 'rbf'}   \n",
       "10000_0.001_rbf  {'C': 10000, 'gamma': 0.001, 'kernel': 'rbf'}   \n",
       "10_0.01_rbf          {'C': 10, 'gamma': 0.01, 'kernel': 'rbf'}   \n",
       "1000_0.001_rbf    {'C': 1000, 'gamma': 0.001, 'kernel': 'rbf'}   \n",
       "100_linear                      {'C': 100, 'kernel': 'linear'}   \n",
       "10000_linear                  {'C': 10000, 'kernel': 'linear'}   \n",
       "1000_linear                    {'C': 1000, 'kernel': 'linear'}   \n",
       "10_linear                        {'C': 10, 'kernel': 'linear'}   \n",
       "100_0.001_rbf      {'C': 100, 'gamma': 0.001, 'kernel': 'rbf'}   \n",
       "10_0.001_rbf        {'C': 10, 'gamma': 0.001, 'kernel': 'rbf'}   \n",
       "10_sigmoid                      {'C': 10, 'kernel': 'sigmoid'}   \n",
       "1000_sigmoid                  {'C': 1000, 'kernel': 'sigmoid'}   \n",
       "10000_sigmoid                {'C': 10000, 'kernel': 'sigmoid'}   \n",
       "100_sigmoid                    {'C': 100, 'kernel': 'sigmoid'}   \n",
       "\n",
       "                 rank_test_score  mean_test_score  std_test_score  \n",
       "kernel                                                             \n",
       "1000_0.01_rbf                  1         0.664167        0.065171  \n",
       "10000_0.01_rbf                 1         0.664167        0.065171  \n",
       "100_0.01_rbf                   3         0.658333        0.065085  \n",
       "10000_0.001_rbf                4         0.634167        0.063487  \n",
       "10_0.01_rbf                    5         0.619167        0.070593  \n",
       "1000_0.001_rbf                 6         0.618333        0.066332  \n",
       "100_linear                     7         0.613333        0.070484  \n",
       "10000_linear                   8         0.610833        0.066594  \n",
       "1000_linear                    9         0.608333        0.066406  \n",
       "10_linear                     10         0.601667        0.072725  \n",
       "100_0.001_rbf                 11         0.581667        0.065860  \n",
       "10_0.001_rbf                  12         0.573333        0.074096  \n",
       "10_sigmoid                    13         0.497500        0.056001  \n",
       "1000_sigmoid                  14         0.493333        0.054237  \n",
       "10000_sigmoid                 15         0.491667        0.063191  \n",
       "100_sigmoid                   16         0.483333        0.064550  "
      ]
     },
     "execution_count": 121,
     "metadata": {},
     "output_type": "execute_result"
    }
   ],
   "source": [
    "results_df = pd.DataFrame(search.cv_results_)\n",
    "results_df = results_df.sort_values(by=[\"rank_test_score\"])\n",
    "results_df = results_df.set_index(\n",
    "    results_df[\"params\"].apply(lambda x: \"_\".join(str(val) for val in x.values()))\n",
    ").rename_axis(\"kernel\")\n",
    "results_df[[\"params\", \"rank_test_score\", \"mean_test_score\", \"std_test_score\"]]"
   ]
  },
  {
   "cell_type": "code",
   "execution_count": null,
   "id": "f6bb6805",
   "metadata": {},
   "outputs": [],
   "source": []
  }
 ],
 "metadata": {
  "kernelspec": {
   "display_name": "Python 3 (ipykernel)",
   "language": "python",
   "name": "python3"
  },
  "language_info": {
   "codemirror_mode": {
    "name": "ipython",
    "version": 3
   },
   "file_extension": ".py",
   "mimetype": "text/x-python",
   "name": "python",
   "nbconvert_exporter": "python",
   "pygments_lexer": "ipython3",
   "version": "3.10.8"
  }
 },
 "nbformat": 4,
 "nbformat_minor": 5
}
