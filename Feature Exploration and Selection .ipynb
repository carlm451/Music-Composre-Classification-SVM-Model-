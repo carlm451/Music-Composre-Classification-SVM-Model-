{
 "cells": [
  {
   "cell_type": "markdown",
   "id": "645f7e3d",
   "metadata": {},
   "source": [
    "# Explore features, pick best features to use for classification "
   ]
  },
  {
   "cell_type": "code",
   "execution_count": 1,
   "id": "ff6118f1",
   "metadata": {},
   "outputs": [],
   "source": [
    "import numpy as np\n",
    "import pandas as pd\n",
    "\n",
    "import matplotlib.pyplot as plot\n",
    "\n",
    "%matplotlib inline"
   ]
  },
  {
   "cell_type": "code",
   "execution_count": null,
   "id": "414e382c",
   "metadata": {},
   "outputs": [],
   "source": []
  },
  {
   "cell_type": "code",
   "execution_count": 5,
   "id": "95adfc1c",
   "metadata": {},
   "outputs": [
    {
     "name": "stdout",
     "output_type": "stream",
     "text": [
      "train_X.shape=(240, 43) train_Y.shape=(240,)\n",
      "m=240 training examples with n=43 features each\n"
     ]
    }
   ],
   "source": [
    "import pickle as pkl\n",
    "\n",
    "dataset_path = './DataStreamFeatures/TrainData.pkl'\n",
    "\n",
    "#to load it\n",
    "with open(dataset_path, \"rb\") as f:\n",
    "    train_X, train_Y = pkl.load(f)\n",
    "    \n",
    "m , n = train_X.shape   # number of samples, total availabl number of features\n",
    "\n",
    "print(f'{train_X.shape=} {train_Y.shape=}')\n",
    "\n",
    "print(f'{m=} training examples with {n=} features each')"
   ]
  },
  {
   "cell_type": "code",
   "execution_count": 6,
   "id": "0a98fbe6",
   "metadata": {},
   "outputs": [
    {
     "name": "stdout",
     "output_type": "stream",
     "text": [
      "{'Bach': 0, 'Beethoven': 1, 'Brahms': 2, 'Schubert': 3}\n"
     ]
    }
   ],
   "source": [
    "# note see Feature Extraction Pipeline, where this encoding order is set... \n",
    "Composers = ['Bach','Beethoven','Brahms','Schubert']\n",
    "\n",
    "label_encodings = dict()\n",
    "\n",
    "for index,composer in enumerate(Composers):\n",
    "    \n",
    "    label_encodings[composer]=index\n",
    "\n",
    "print(label_encodings)"
   ]
  },
  {
   "cell_type": "markdown",
   "id": "9d70296e",
   "metadata": {},
   "source": [
    "# Convert to Pandas DataFrame for easy data exploration"
   ]
  },
  {
   "cell_type": "code",
   "execution_count": null,
   "id": "e1fd7e78",
   "metadata": {},
   "outputs": [],
   "source": [
    "import music21.features as features\n",
    "\n"
   ]
  }
 ],
 "metadata": {
  "kernelspec": {
   "display_name": "Python 3 (ipykernel)",
   "language": "python",
   "name": "python3"
  },
  "language_info": {
   "codemirror_mode": {
    "name": "ipython",
    "version": 3
   },
   "file_extension": ".py",
   "mimetype": "text/x-python",
   "name": "python",
   "nbconvert_exporter": "python",
   "pygments_lexer": "ipython3",
   "version": "3.10.8"
  }
 },
 "nbformat": 4,
 "nbformat_minor": 5
}
