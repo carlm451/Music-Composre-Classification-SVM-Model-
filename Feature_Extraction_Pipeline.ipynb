{
 "cells": [
  {
   "cell_type": "markdown",
   "id": "ac118ebf",
   "metadata": {},
   "source": [
    "# Invoking music21 to extract features for 30 second intervals"
   ]
  },
  {
   "cell_type": "code",
   "execution_count": 46,
   "id": "ad082c75",
   "metadata": {},
   "outputs": [],
   "source": [
    "import music21\n",
    "import music21.features as features\n",
    "from music21 import midi\n",
    "from music21 import stream\n",
    "from helper_functions import *\n",
    "from numpy.random import randint\n",
    "\n",
    "import numpy as np\n",
    "\n",
    "from collections import namedtuple"
   ]
  },
  {
   "cell_type": "code",
   "execution_count": 2,
   "id": "07c91e0f",
   "metadata": {},
   "outputs": [
    {
     "name": "stdout",
     "output_type": "stream",
     "text": [
      "There are 17 compositions by Bach\n",
      "There are 20 compositions by Brahms\n",
      "There are 132 compositions by Beethoven\n",
      "There are 25 compositions by Schubert\n"
     ]
    }
   ],
   "source": [
    "# get dictionary paths to *.mid files for each composer \n",
    "\n",
    "Composers = ['Bach','Brahms','Beethoven','Schubert']\n",
    "\n",
    "midi_files = make_composer_dict(Composers,data_dir = './')\n",
    "\n",
    "# print number of files each folder\n",
    "\n",
    "for composer in Composers:\n",
    "    print(f'There are {len(midi_files[composer])} compositions by {composer}')"
   ]
  },
  {
   "cell_type": "code",
   "execution_count": 3,
   "id": "9e660fc6",
   "metadata": {},
   "outputs": [],
   "source": [
    "# play sample stream from MIDI file\n",
    " \n",
    "audio_path = midi_files['Bach'][12]\n",
    "\n",
    "mf = midi.MidiFile()\n",
    "mf.open(audio_path) # path='abc.midi'\n",
    "mf.read()\n",
    "mf.close()\n",
    "s = midi.translate.midiFileToStream(mf)"
   ]
  },
  {
   "cell_type": "code",
   "execution_count": 4,
   "id": "a659f3ab",
   "metadata": {},
   "outputs": [
    {
     "name": "stdout",
     "output_type": "stream",
     "text": [
      "./Bach/Violin Partita No 1 in B minor_BWV1002_2288_vs2_2.mid\n"
     ]
    },
    {
     "data": {
      "text/html": [
       "\n",
       "                <div id=\"midiPlayerDiv11719\"></div>\n",
       "                <link rel=\"stylesheet\" href=\"//cuthbertLab.github.io/music21j/css/m21.css\"\n",
       "                    type=\"text/css\" />\n",
       "                \n",
       "                <script>\n",
       "                require.config({\n",
       "                    paths: {'music21': '//cuthbertLab.github.io/music21j/src/music21'}\n",
       "                });\n",
       "                require(['music21'], function() {\n",
       "                               mp = new music21.miditools.MidiPlayer();\n",
       "                               mp.addPlayer(\"#midiPlayerDiv11719\");\n",
       "                               mp.base64Load(\"data:audio/midi;base64,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\");\n",
       "                        });\n",
       "                </script>"
      ],
      "text/plain": [
       "<IPython.core.display.HTML object>"
      ]
     },
     "metadata": {},
     "output_type": "display_data"
    }
   ],
   "source": [
    "# play the stream by calling s.show('midi')\n",
    "\n",
    "print(audio_path)\n",
    "\n",
    "s.show('midi')"
   ]
  },
  {
   "cell_type": "markdown",
   "id": "343e16fa",
   "metadata": {},
   "source": [
    "## Extract 30 second duration streams from each composition"
   ]
  },
  {
   "cell_type": "code",
   "execution_count": 5,
   "id": "bd5116c8",
   "metadata": {},
   "outputs": [],
   "source": [
    "# for seeding random samples \n",
    "\n",
    "from numpy.random import Generator, PCG64\n",
    "rng = Generator(PCG64())"
   ]
  },
  {
   "cell_type": "code",
   "execution_count": 6,
   "id": "9f3e5694",
   "metadata": {},
   "outputs": [],
   "source": [
    "# function to extract n streams, target duration T seconds for composer \n",
    "\n",
    "# extracts n_clips each from n_tracks\n",
    "\n",
    "# will use namedtuples as convient way to store clips, composer info\n",
    "\n",
    "Clip = namedtuple('Clip',['composer','path','start','stop','seconds','stream'])\n",
    "\n",
    "def extract_samples(composer,T=30,n_tracks=10,n_clips=3,show_streams=False):\n",
    "    delta_measures = list(range(5,50,1))\n",
    "\n",
    "    clips = []\n",
    "    \n",
    "    for audio_path in midi_files[composer][:n_tracks]:\n",
    "\n",
    "        mf = midi.MidiFile()\n",
    "        mf.open(audio_path) # path='abc.midi'\n",
    "        mf.read()\n",
    "        mf.close()\n",
    "        s = midi.translate.midiFileToStream(mf)\n",
    "\n",
    "        total_time = s.secondsMap[0]['durationSeconds']\n",
    "\n",
    "        number_of_measures = len(s[0])  # think this is total number of measures in the stream?\n",
    "\n",
    "        print(audio_path,'lasts approx ',total_time,' seconds')\n",
    "        \n",
    "        #pick n_clips random measures to start clipping from \n",
    "        \n",
    "        #start_measures = randint(1,number_of_measures//2,size=n_clips)\n",
    "        start_measures = rng.integers(1,number_of_measures//2,size=n_clips)\n",
    "        \n",
    "        for i,start in enumerate(start_measures):\n",
    "            \n",
    "            for delta in delta_measures:\n",
    "\n",
    "                stop = start+delta\n",
    "\n",
    "                excerpt_stream = s.measures(start,stop)\n",
    "\n",
    "                clip_time = excerpt_stream.secondsMap[0]['durationSeconds']\n",
    "\n",
    "                if clip_time>T: # clip sample streams until time is longer than T\n",
    "                    print('clip: ',i,' --> ','t = ',clip_time,'start = ',start,'stop =',stop,' delta = ',delta)\n",
    "\n",
    "                    #clip = (composer,audio_path,start,stop,clip_time,excerpt_stream)\n",
    "                    \n",
    "                    clip = Clip(composer=composer,\n",
    "                                path=audio_path,\n",
    "                                start=start,\n",
    "                                stop=stop,\n",
    "                                seconds=clip_time,\n",
    "                                stream = excerpt_stream)\n",
    "                    \n",
    "                    clips.append(clip)\n",
    "                    \n",
    "                    if show_streams: excerpt_stream.show('midi')\n",
    "                        \n",
    "                    break\n",
    "                    \n",
    "    \n",
    "    return clips"
   ]
  },
  {
   "cell_type": "markdown",
   "id": "5b7dbe81",
   "metadata": {},
   "source": [
    "## Extract Single clip"
   ]
  },
  {
   "cell_type": "code",
   "execution_count": 7,
   "id": "98f6b7db",
   "metadata": {},
   "outputs": [
    {
     "name": "stdout",
     "output_type": "stream",
     "text": [
      "./Bach/Cello Suite 3_BWV1009_2222_cs3-6gig.mid lasts approx  178.0581818181818  seconds\n",
      "clip:  0  -->  t =  30.75 start =  25 stop = 65  delta =  40\n"
     ]
    }
   ],
   "source": [
    "Bach_clips = extract_samples('Bach',T=30,n_tracks=1,n_clips=1)"
   ]
  },
  {
   "cell_type": "code",
   "execution_count": 8,
   "id": "d4c7da79",
   "metadata": {},
   "outputs": [
    {
     "name": "stdout",
     "output_type": "stream",
     "text": [
      "\n"
     ]
    },
    {
     "data": {
      "text/html": [
       "\n",
       "                <div id=\"midiPlayerDiv50497\"></div>\n",
       "                <link rel=\"stylesheet\" href=\"//cuthbertLab.github.io/music21j/css/m21.css\"\n",
       "                    type=\"text/css\" />\n",
       "                \n",
       "                <script>\n",
       "                require.config({\n",
       "                    paths: {'music21': '//cuthbertLab.github.io/music21j/src/music21'}\n",
       "                });\n",
       "                require(['music21'], function() {\n",
       "                               mp = new music21.miditools.MidiPlayer();\n",
       "                               mp.addPlayer(\"#midiPlayerDiv50497\");\n",
       "                               mp.base64Load(\"data:audio/midi;base64,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\");\n",
       "                        });\n",
       "                </script>"
      ],
      "text/plain": [
       "<IPython.core.display.HTML object>"
      ]
     },
     "metadata": {},
     "output_type": "display_data"
    }
   ],
   "source": [
    "# check that can access and play the clip streams\n",
    "\n",
    "clip_stream = Bach_clips[0].stream\n",
    "\n",
    "print()\n",
    "\n",
    "clip_stream.show('midi')"
   ]
  },
  {
   "cell_type": "markdown",
   "id": "d2e53444",
   "metadata": {},
   "source": [
    "# Batch Processing and Feature Extraction\n",
    "\n",
    "- should now be ready to loop over all files, extracting desired number of samples clips of target length\n",
    "\n",
    "- will use music21 library methods to extract list of ponetially useful single value numeric features from the streams"
   ]
  },
  {
   "cell_type": "code",
   "execution_count": 9,
   "id": "427799dc",
   "metadata": {},
   "outputs": [],
   "source": [
    "target_time = 30 # desired time in seconds for audio clips\n",
    "\n",
    "n_clips = 4 # since clips range from 2 - 4 minutes, will get few different slices with some but not a lot of overlap\n",
    "\n",
    "n_tracks = 15 # this will give 4*15 = 60 per composer , 240 in total\n",
    "\n",
    "# keep track of extracted clips lists in a dictionary\n",
    "\n",
    "composer_clips = dict()"
   ]
  },
  {
   "cell_type": "code",
   "execution_count": 10,
   "id": "74ad3cf6",
   "metadata": {},
   "outputs": [
    {
     "name": "stdout",
     "output_type": "stream",
     "text": [
      "./Bach/Cello Suite 3_BWV1009_2222_cs3-6gig.mid lasts approx  178.0581818181818  seconds\n",
      "clip:  0  -->  t =  30.75 start =  98 stop = 138  delta =  40\n",
      "clip:  1  -->  t =  30.75 start =  22 stop = 62  delta =  40\n",
      "clip:  2  -->  t =  30.75 start =  13 stop = 53  delta =  40\n",
      "clip:  3  -->  t =  30.75 start =  4 stop = 44  delta =  40\n",
      "./Bach/Violin Sonata in B minor_BWV1014_2284_vhs1_3.mid lasts approx  151.34728996720207  seconds\n",
      "clip:  0  -->  t =  32.0 start =  5 stop = 20  delta =  15\n",
      "clip:  1  -->  t =  32.0 start =  8 stop = 23  delta =  15\n",
      "clip:  2  -->  t =  32.0 start =  10 stop = 25  delta =  15\n",
      "clip:  3  -->  t =  32.0 start =  2 stop = 17  delta =  15\n",
      "./Bach/Violin Sonata No 1 in G minor_BWV1001_2243_vs1_3.mid lasts approx  186.63523499970867  seconds\n",
      "clip:  0  -->  t =  52.2032292032292 start =  8 stop = 13  delta =  5\n",
      "clip:  1  -->  t =  52.2032292032292 start =  8 stop = 13  delta =  5\n",
      "clip:  2  -->  t =  48.478229203229205 start =  6 stop = 11  delta =  5\n",
      "clip:  3  -->  t =  48.478229203229205 start =  6 stop = 11  delta =  5\n",
      "./Bach/Violin Partita No 3 in E major_BWV1006_2186_vs6_1.mid lasts approx  213.22971249764726  seconds\n",
      "clip:  0  -->  t =  30.17563523433089 start =  20 stop = 39  delta =  19\n",
      "clip:  1  -->  t =  30.145454545454545 start =  8 stop = 27  delta =  19\n",
      "clip:  2  -->  t =  30.175635234330887 start =  17 stop = 36  delta =  19\n",
      "clip:  3  -->  t =  30.175635234330887 start =  16 stop = 35  delta =  19\n",
      "./Bach/Violin Sonata No 1 in G minor_BWV1001_2242_vs1_2.mid lasts approx  329.08527950582635  seconds\n",
      "clip:  0  -->  t =  31.749846647109504 start =  2 stop = 14  delta =  12\n",
      "clip:  1  -->  t =  30.955289891032237 start =  37 stop = 47  delta =  10\n",
      "clip:  2  -->  t =  30.288623224365566 start =  39 stop = 48  delta =  9\n",
      "clip:  3  -->  t =  33.067711782865885 start =  41 stop = 50  delta =  9\n",
      "./Bach/Cello Suite 4_BWV1010_2297_cs4-5bou.mid lasts approx  242.5057142857143  seconds\n",
      "clip:  0  -->  t =  32.0 start =  15 stop = 30  delta =  15\n",
      "clip:  1  -->  t =  32.0 start =  83 stop = 98  delta =  15\n",
      "clip:  2  -->  t =  32.0 start =  65 stop = 80  delta =  15\n",
      "clip:  3  -->  t =  32.0 start =  43 stop = 58  delta =  15\n",
      "./Bach/Cello Suite 4_BWV1010_2298_cs4-6gig.mid lasts approx  161.58315789473681  seconds\n",
      "clip:  0  -->  t =  33.0 start =  6 stop = 16  delta =  10\n",
      "clip:  1  -->  t =  33.0 start =  25 stop = 35  delta =  10\n",
      "clip:  2  -->  t =  33.0 start =  17 stop = 27  delta =  10\n",
      "clip:  3  -->  t =  33.0 start =  12 stop = 22  delta =  10\n",
      "./Bach/Cello Suite 3_BWV1009_2219_cs3-3cou.mid lasts approx  195.89032258064515  seconds\n",
      "clip:  0  -->  t =  31.5 start =  21 stop = 41  delta =  20\n",
      "clip:  1  -->  t =  31.5 start =  79 stop = 99  delta =  20\n",
      "clip:  2  -->  t =  31.5 start =  30 stop = 50  delta =  20\n",
      "clip:  3  -->  t =  31.5 start =  38 stop = 58  delta =  20\n",
      "./Bach/Violin Sonata in B minor_BWV1014_2282_vhs1_1.mid lasts approx  147.22533542670672  seconds\n",
      "clip:  0  -->  t =  33.0 start =  9 stop = 19  delta =  10\n",
      "clip:  1  -->  t =  30.25 start =  17 stop = 26  delta =  9\n",
      "clip:  2  -->  t =  33.0 start =  13 stop = 23  delta =  10\n",
      "clip:  3  -->  t =  33.0 start =  12 stop = 22  delta =  10\n",
      "./Bach/Violin Sonata in B minor_BWV1014_2283_vhs1_2.mid lasts approx  175.09880768096713  seconds\n",
      "clip:  0  -->  t =  32.0 start =  40 stop = 55  delta =  15\n",
      "clip:  1  -->  t =  32.0 start =  27 stop = 42  delta =  15\n",
      "clip:  2  -->  t =  32.0 start =  71 stop = 86  delta =  15\n",
      "clip:  3  -->  t =  32.0 start =  47 stop = 62  delta =  15\n",
      "./Bach/Violin Sonata No 1 in G minor_BWV1001_2241_vs1_1.mid lasts approx  197.72878232878242  seconds\n",
      "clip:  0  -->  t =  45.50914918414918 start =  4 stop = 9  delta =  5\n",
      "clip:  1  -->  t =  50.10637140637142 start =  1 stop = 6  delta =  5\n",
      "clip:  2  -->  t =  50.10637140637142 start =  1 stop = 6  delta =  5\n",
      "clip:  3  -->  t =  49.02308802308802 start =  10 stop = 15  delta =  5\n",
      "./Bach/Cello Suite 3_BWV1009_2218_cs3-2all.mid lasts approx  232.32  seconds\n",
      "clip:  0  -->  t =  32.0 start =  11 stop = 26  delta =  15\n",
      "clip:  1  -->  t =  32.0 start =  20 stop = 35  delta =  15\n",
      "clip:  2  -->  t =  32.0 start =  22 stop = 37  delta =  15\n",
      "clip:  3  -->  t =  30.72 start =  1 stop = 7  delta =  6\n",
      "./Bach/Violin Partita No 1 in B minor_BWV1002_2288_vs2_2.mid lasts approx  160.93680758192292  seconds\n",
      "clip:  0  -->  t =  31.331868131868134 start =  1 stop = 10  delta =  9\n",
      "clip:  1  -->  t =  31.04204273677958 start =  2 stop = 11  delta =  9\n",
      "clip:  2  -->  t =  32.50658283920721 start =  17 stop = 27  delta =  10\n",
      "clip:  3  -->  t =  31.04204273677958 start =  14 stop = 23  delta =  9\n",
      "./Bach/Cello Suite 3_BWV1009_2221_cs3-5bou.mid lasts approx  215.51999999999998  seconds\n",
      "clip:  0  -->  t =  32.0 start =  44 stop = 59  delta =  15\n",
      "clip:  1  -->  t =  32.0 start =  24 stop = 39  delta =  15\n",
      "clip:  2  -->  t =  32.0 start =  48 stop = 63  delta =  15\n",
      "clip:  3  -->  t =  32.0 start =  65 stop = 80  delta =  15\n",
      "./Bach/Cello Suite 4_BWV1010_2296_cs4-4sar.mid lasts approx  252.0  seconds\n",
      "clip:  0  -->  t =  31.5 start =  21 stop = 41  delta =  20\n",
      "clip:  1  -->  t =  31.5 start =  19 stop = 39  delta =  20\n",
      "clip:  2  -->  t =  31.5 start =  25 stop = 45  delta =  20\n",
      "clip:  3  -->  t =  31.5 start =  23 stop = 43  delta =  20\n"
     ]
    }
   ],
   "source": [
    "#return list of clips for give composer \n",
    "\n",
    "# will go one at a time, could change to loop over list if were more than 4 composers to workwith \n",
    "\n",
    "composer = Composers[0] # Bach\n",
    "\n",
    "composer_clips[composer] = extract_samples(composer,T=target_time,n_tracks=n_tracks,n_clips=n_clips)   "
   ]
  },
  {
   "cell_type": "code",
   "execution_count": 11,
   "id": "bc48ac5e",
   "metadata": {},
   "outputs": [
    {
     "name": "stdout",
     "output_type": "stream",
     "text": [
      "Bach 60\n"
     ]
    }
   ],
   "source": [
    "print(composer,len(composer_clips['Bach']))"
   ]
  },
  {
   "cell_type": "code",
   "execution_count": 12,
   "id": "1bc96f02",
   "metadata": {},
   "outputs": [
    {
     "name": "stdout",
     "output_type": "stream",
     "text": [
      "./Brahms/String Sextet No 2 in G major_OP36_2147_br36m4.mid lasts approx  555.7777490470717  seconds\n",
      "clip:  0  -->  t =  32.20447710184552 start =  111 stop = 123  delta =  12\n",
      "clip:  1  -->  t =  32.149188311688306 start =  16 stop = 28  delta =  12\n",
      "clip:  2  -->  t =  32.18961038961039 start =  58 stop = 70  delta =  12\n",
      "clip:  3  -->  t =  32.47142857142857 start =  90 stop = 103  delta =  13\n",
      "./Brahms/Piano Quartet No 1 in G minor_OP25_2151_br25m4.mid lasts approx  480.1360988926574  seconds\n",
      "clip:  0  -->  t =  30.59388111888112 start =  66 stop = 97  delta =  31\n",
      "clip:  1  -->  t =  30.457342657342657 start =  106 stop = 136  delta =  30\n",
      "clip:  2  -->  t =  30.833216783216784 start =  18 stop = 50  delta =  32\n",
      "clip:  3  -->  t =  31.0 start =  235 stop = 265  delta =  30\n",
      "./Brahms/Horn Trio in E-flat major_OP40_2158_bra40_1.mid lasts approx  484.7308941926688  seconds\n",
      "clip:  0  -->  t =  30.82793262032223 start =  120 stop = 133  delta =  13\n",
      "clip:  1  -->  t =  31.0 start =  7 stop = 37  delta =  30\n",
      "clip:  2  -->  t =  31.0 start =  28 stop = 58  delta =  30\n",
      "clip:  3  -->  t =  31.0 start =  34 stop = 64  delta =  30\n",
      "./Brahms/Piano Quartet No 1 in G minor_OP25_2150_br25m3.mid lasts approx  641.6591291851082  seconds\n",
      "clip:  0  -->  t =  31.5 start =  47 stop = 67  delta =  20\n",
      "clip:  1  -->  t =  31.5 start =  47 stop = 67  delta =  20\n",
      "clip:  2  -->  t =  31.5 start =  11 stop = 31  delta =  20\n",
      "clip:  3  -->  t =  31.5 start =  109 stop = 129  delta =  20\n",
      "./Brahms/Clarinet Sonata No 1 in F minor_OP120NO1_2119_brahms_sonata_opus_120-4.mid lasts approx  222.25  seconds\n",
      "clip:  0  -->  t =  32.0 start =  6 stop = 21  delta =  15\n",
      "clip:  1  -->  t =  32.0 start =  7 stop = 22  delta =  15\n",
      "clip:  2  -->  t =  32.0 start =  90 stop = 105  delta =  15\n",
      "clip:  3  -->  t =  32.0 start =  37 stop = 52  delta =  15\n",
      "./Brahms/Piano Quartet No 1 in G minor_OP25_2148_br25m1.mid lasts approx  739.5231888629605  seconds\n",
      "clip:  0  -->  t =  32.0 start =  168 stop = 183  delta =  15\n",
      "clip:  1  -->  t =  31.633549783549782 start =  160 stop = 175  delta =  15\n",
      "clip:  2  -->  t =  32.0 start =  112 stop = 127  delta =  15\n",
      "clip:  3  -->  t =  32.0 start =  53 stop = 68  delta =  15\n",
      "./Brahms/Clarinet Sonata No 1 in F minor_OP120NO1_2116_brahms_sonata_opus_120-1.mid lasts approx  355.5  seconds\n",
      "clip:  0  -->  t =  31.5 start =  86 stop = 106  delta =  20\n",
      "clip:  1  -->  t =  31.5 start =  5 stop = 25  delta =  20\n",
      "clip:  2  -->  t =  31.5 start =  31 stop = 51  delta =  20\n",
      "clip:  3  -->  t =  31.5 start =  52 stop = 72  delta =  20\n",
      "./Brahms/Clarinet Sonata No 1 in F minor_OP120NO1_2118_brahms_sonata_opus_120-3.mid lasts approx  249.5  seconds\n",
      "clip:  0  -->  t =  31.5 start =  83 stop = 103  delta =  20\n",
      "clip:  1  -->  t =  31.5 start =  36 stop = 56  delta =  20\n",
      "clip:  2  -->  t =  31.5 start =  63 stop = 83  delta =  20\n",
      "clip:  3  -->  t =  31.5 start =  20 stop = 40  delta =  20\n"
     ]
    },
    {
     "name": "stderr",
     "output_type": "stream",
     "text": [
      "/home/carlbrady/miniconda3/lib/python3.10/site-packages/music21/midi/translate.py:863: TranslateWarning: Unable to determine instrument from <music21.midi.MidiEvent SEQUENCE_TRACK_NAME, track=17, channel=None, data=b'Copyright \\xa92007 by'>; getting generic Instrument\n",
      "  warnings.warn(\n"
     ]
    },
    {
     "name": "stdout",
     "output_type": "stream",
     "text": [
      "./Brahms/Serenade No 1 in D Major_OP11_2127_bra11-2.mid lasts approx  468.0  seconds\n",
      "clip:  0  -->  t =  31.5 start =  48 stop = 68  delta =  20\n",
      "clip:  1  -->  t =  31.5 start =  185 stop = 205  delta =  20\n",
      "clip:  2  -->  t =  31.5 start =  24 stop = 44  delta =  20\n",
      "clip:  3  -->  t =  31.5 start =  234 stop = 254  delta =  20\n",
      "./Brahms/String Sextet No 1 in B-flat major_OP18_2157_br18m4.mid lasts approx  510.7348094861472  seconds\n",
      "clip:  0  -->  t =  30.461106135244062 start =  33 stop = 62  delta =  29\n",
      "clip:  1  -->  t =  30.461106135244062 start =  33 stop = 62  delta =  29\n",
      "clip:  2  -->  t =  30.28330721003135 start =  129 stop = 158  delta =  29\n",
      "clip:  3  -->  t =  30.262695924764888 start =  39 stop = 68  delta =  29\n",
      "./Brahms/String Quartet in C minor_OP51NO1_2138_br51n1m2.mid lasts approx  405.79187784659587  seconds\n",
      "clip:  0  -->  t =  32.01031991744066 start =  7 stop = 25  delta =  18\n",
      "clip:  1  -->  t =  31.144142616480753 start =  18 stop = 29  delta =  11\n",
      "clip:  2  -->  t =  33.34655561829475 start =  38 stop = 48  delta =  10\n",
      "clip:  3  -->  t =  32.01031991744066 start =  7 stop = 25  delta =  18\n",
      "./Brahms/Horn Trio in E-flat major_OP40_2161_bra40_4.mid lasts approx  389.24536539595204  seconds\n",
      "clip:  0  -->  t =  31.5 start =  177 stop = 197  delta =  20\n",
      "clip:  1  -->  t =  31.5 start =  126 stop = 146  delta =  20\n",
      "clip:  2  -->  t =  31.5 start =  10 stop = 30  delta =  20\n",
      "clip:  3  -->  t =  31.5 start =  130 stop = 150  delta =  20\n",
      "./Brahms/Trio in E-flat major_OP38_2113_jb38_2.mid lasts approx  331.5  seconds\n",
      "clip:  0  -->  t =  31.5 start =  44 stop = 64  delta =  20\n",
      "clip:  1  -->  t =  31.5 start =  10 stop = 30  delta =  20\n",
      "clip:  2  -->  t =  31.5 start =  75 stop = 97  delta =  22\n",
      "clip:  3  -->  t =  31.5 start =  29 stop = 49  delta =  20\n",
      "./Brahms/String Sextet No 1 in B-flat major_OP18_2154_br18m1.mid lasts approx  696.1934786300759  seconds\n",
      "clip:  0  -->  t =  30.333759590792837 start =  175 stop = 196  delta =  21\n",
      "clip:  1  -->  t =  30.392857142857142 start =  94 stop = 115  delta =  21\n",
      "clip:  2  -->  t =  30.686700767263428 start =  173 stop = 194  delta =  21\n",
      "clip:  3  -->  t =  31.081191557599837 start =  60 stop = 83  delta =  23\n",
      "./Brahms/Piano Quartet No 1 in G minor_OP25_2149_br25m2.mid lasts approx  514.5827643166542  seconds\n",
      "clip:  0  -->  t =  31.04819004524887 start =  121 stop = 135  delta =  14\n",
      "clip:  1  -->  t =  31.254115914206274 start =  105 stop = 119  delta =  14\n",
      "clip:  2  -->  t =  31.5 start =  51 stop = 64  delta =  13\n",
      "clip:  3  -->  t =  30.29819004524887 start =  132 stop = 151  delta =  19\n"
     ]
    }
   ],
   "source": [
    "composer = Composers[1] # Brahms\n",
    "\n",
    "composer_clips[composer] = extract_samples(composer,T=target_time,n_tracks=n_tracks,n_clips=n_clips)"
   ]
  },
  {
   "cell_type": "code",
   "execution_count": 13,
   "id": "2890338d",
   "metadata": {},
   "outputs": [
    {
     "name": "stdout",
     "output_type": "stream",
     "text": [
      "Brahms 60\n"
     ]
    }
   ],
   "source": [
    "print('Brahms',len(composer_clips['Brahms']))"
   ]
  },
  {
   "cell_type": "code",
   "execution_count": 14,
   "id": "0990916f",
   "metadata": {},
   "outputs": [
    {
     "name": "stdout",
     "output_type": "stream",
     "text": [
      "./Beethoven/String Quartet No 1 in F Major_OP18NO1_2403_qt01_4.mid lasts approx  315.7202498935679  seconds\n",
      "clip:  0  -->  t =  30.52992889463477 start =  112 stop = 144  delta =  32\n",
      "clip:  1  -->  t =  30.104935009346775 start =  181 stop = 213  delta =  32\n",
      "clip:  2  -->  t =  30.537367441779203 start =  183 stop = 216  delta =  33\n",
      "clip:  3  -->  t =  30.64022767310439 start =  43 stop = 80  delta =  37\n",
      "./Beethoven/Piano Sonata No 20 in C minor_OP111_2531_ps32_02.mid lasts approx  951.9290715488472  seconds\n",
      "clip:  0  -->  t =  30.238537644787645 start =  196 stop = 222  delta =  26\n",
      "clip:  1  -->  t =  30.29584942084942 start =  231 stop = 261  delta =  30\n",
      "clip:  2  -->  t =  30.561904761904763 start =  57 stop = 63  delta =  6\n",
      "clip:  3  -->  t =  30.948412698412696 start =  247 stop = 290  delta =  43\n",
      "./Beethoven/Piano Sonata No 8 in C minor_OP13_2576_ps08_03.mid lasts approx  263.80465302836416  seconds\n",
      "clip:  0  -->  t =  32.0 start =  8 stop = 23  delta =  15\n",
      "clip:  1  -->  t =  30.031207988173936 start =  36 stop = 55  delta =  19\n",
      "clip:  2  -->  t =  32.0 start =  97 stop = 112  delta =  15\n",
      "clip:  3  -->  t =  32.0 start =  10 stop = 25  delta =  15\n",
      "./Beethoven/Piano Sonata No 7 in D major_OP10NO3_2611_ps07_02.mid lasts approx  439.44140007437244  seconds\n",
      "clip:  0  -->  t =  32.2 start =  60 stop = 81  delta =  21\n",
      "clip:  1  -->  t =  31.3 start =  17 stop = 29  delta =  12\n",
      "clip:  2  -->  t =  30.625 start =  29 stop = 47  delta =  18\n",
      "clip:  3  -->  t =  32.365877965877964 start =  80 stop = 95  delta =  15\n",
      "./Beethoven/Violin Sonata No 2 in A major_OP12NO2_2420_lvb12n2c.mid lasts approx  332.57142027212086  seconds\n",
      "clip:  0  -->  t =  30.38272751355627 start =  109 stop = 139  delta =  30\n",
      "clip:  1  -->  t =  30.52798560243198 start =  3 stop = 34  delta =  31\n",
      "clip:  2  -->  t =  30.06535131378262 start =  36 stop = 67  delta =  31\n",
      "clip:  3  -->  t =  30.77151039429542 start =  155 stop = 185  delta =  30\n",
      "./Beethoven/Piano Sonata No 9 in E major_OP14NO1_2677_ps09_01.mid lasts approx  389.6307341302617  seconds\n",
      "clip:  0  -->  t =  30.17169719169719 start =  107 stop = 122  delta =  15\n",
      "clip:  1  -->  t =  30.5 start =  23 stop = 37  delta =  14\n",
      "clip:  2  -->  t =  30.796092796092793 start =  61 stop = 76  delta =  15\n",
      "clip:  3  -->  t =  32.0 start =  76 stop = 91  delta =  15\n",
      "./Beethoven/Piano Sonata No 13 in E-flat major_OP27NO1_2410_ps13_01.mid lasts approx  296.5708869035136  seconds\n",
      "clip:  0  -->  t =  33.0 start =  1 stop = 11  delta =  10\n",
      "clip:  1  -->  t =  31.342775135312447 start =  32 stop = 40  delta =  8\n",
      "clip:  2  -->  t =  33.142857142857146 start =  3 stop = 17  delta =  14\n",
      "clip:  3  -->  t =  31.5 start =  52 stop = 72  delta =  20\n",
      "./Beethoven/String Quartet No 12 in E-flat major_OP127_2368_qt12_4.mid lasts approx  374.70644991585914  seconds\n",
      "clip:  0  -->  t =  30.5416395575797 start =  34 stop = 61  delta =  27\n",
      "clip:  1  -->  t =  30.90289038839594 start =  63 stop = 91  delta =  28\n",
      "clip:  2  -->  t =  30.84780564263323 start =  54 stop = 73  delta =  19\n",
      "clip:  3  -->  t =  32.0 start =  130 stop = 145  delta =  15\n"
     ]
    },
    {
     "name": "stderr",
     "output_type": "stream",
     "text": [
      "/home/carlbrady/miniconda3/lib/python3.10/site-packages/music21/midi/translate.py:863: TranslateWarning: Unable to determine instrument from <music21.midi.MidiEvent SEQUENCE_TRACK_NAME, track=0, channel=None, data=b'Trio f\\xfcr Klarinette, Cello und Klavier Op.38, Menuetto'>; getting generic Instrument\n",
      "  warnings.warn(\n"
     ]
    },
    {
     "name": "stdout",
     "output_type": "stream",
     "text": [
      "./Beethoven/Trio in E-flat major_OP38_2320_bh38m3.mid lasts approx  208.03564131022506  seconds\n",
      "clip:  0  -->  t =  30.394107557259606 start =  59 stop = 77  delta =  18\n",
      "clip:  1  -->  t =  30.947441804711502 start =  54 stop = 72  delta =  18\n",
      "clip:  2  -->  t =  30.394107557259606 start =  59 stop = 77  delta =  18\n",
      "clip:  3  -->  t =  30.432206207899878 start =  31 stop = 49  delta =  18\n",
      "./Beethoven/Piano Sonata No 17 in D minor_OP31NO2_2393_ps17_03.mid lasts approx  472.18839394562553  seconds\n",
      "clip:  0  -->  t =  30.480282884873354 start =  134 stop = 170  delta =  36\n",
      "clip:  1  -->  t =  30.75 start =  212 stop = 252  delta =  40\n",
      "clip:  2  -->  t =  30.193548387096772 start =  84 stop = 116  delta =  32\n",
      "clip:  3  -->  t =  30.09375 start =  96 stop = 133  delta =  37\n",
      "./Beethoven/Piano Sonata No 24 in F-sharp major_OP78_2550_ps24_02.mid lasts approx  151.16511959712494  seconds\n",
      "clip:  0  -->  t =  30.1850421395543 start =  31 stop = 69  delta =  38\n",
      "clip:  1  -->  t =  30.6850421395543 start =  26 stop = 63  delta =  37\n",
      "clip:  2  -->  t =  30.41655522424023 start =  17 stop = 54  delta =  37\n",
      "clip:  3  -->  t =  30.357210600785265 start =  82 stop = 118  delta =  36\n",
      "./Beethoven/Piano Sonata No 10 in G major_OP14NO2_2632_ps10_02.mid lasts approx  344.83445827878353  seconds\n",
      "clip:  0  -->  t =  30.179851250845168 start =  26 stop = 38  delta =  12\n",
      "clip:  1  -->  t =  32.0 start =  60 stop = 75  delta =  15\n",
      "clip:  2  -->  t =  32.0 start =  16 stop = 31  delta =  15\n",
      "clip:  3  -->  t =  32.54259634888438 start =  38 stop = 50  delta =  12\n",
      "./Beethoven/Piano Sonata No 22 in F major_OP54_2581_ps22_01.mid lasts approx  359.6917362303011  seconds\n",
      "clip:  0  -->  t =  30.333333333333332 start =  39 stop = 56  delta =  17\n",
      "clip:  1  -->  t =  31.258424908424907 start =  16 stop = 29  delta =  13\n",
      "clip:  2  -->  t =  31.183045977011492 start =  44 stop = 60  delta =  16\n",
      "clip:  3  -->  t =  30.205933062880327 start =  51 stop = 66  delta =  15\n",
      "./Beethoven/Piano Sonata No 10 in G major_OP14NO2_2633_ps10_03.mid lasts approx  192.56791083309722  seconds\n",
      "clip:  0  -->  t =  30.517193675889327 start =  103 stop = 142  delta =  39\n",
      "clip:  1  -->  t =  30.102601043444874 start =  26 stop = 64  delta =  38\n",
      "clip:  2  -->  t =  30.75 start =  97 stop = 137  delta =  40\n",
      "clip:  3  -->  t =  30.34383743481856 start =  37 stop = 75  delta =  38\n",
      "./Beethoven/String Quartet No 5 in A major_OP18NO5_2482_qt05_3.mid lasts approx  547.932899477956  seconds\n",
      "clip:  0  -->  t =  30.14174270600102 start =  64 stop = 77  delta =  13\n",
      "clip:  1  -->  t =  30.29058275484107 start =  65 stop = 78  delta =  13\n",
      "clip:  2  -->  t =  32.093433960185884 start =  14 stop = 29  delta =  15\n",
      "clip:  3  -->  t =  30.337134703886623 start =  9 stop = 26  delta =  17\n"
     ]
    }
   ],
   "source": [
    "composer = Composers[2] # Beethoven    # There's much more data for Beethoven, possible to use ??? will keep same number for now\n",
    "\n",
    "composer_clips[composer] = extract_samples(composer,T=target_time,n_tracks=n_tracks,n_clips=n_clips)"
   ]
  },
  {
   "cell_type": "code",
   "execution_count": 15,
   "id": "3278f71c",
   "metadata": {},
   "outputs": [
    {
     "name": "stdout",
     "output_type": "stream",
     "text": [
      "Beethoven 60\n"
     ]
    }
   ],
   "source": [
    "print('Beethoven',len(composer_clips['Beethoven']))"
   ]
  },
  {
   "cell_type": "code",
   "execution_count": 16,
   "id": "916e2e38",
   "metadata": {},
   "outputs": [
    {
     "name": "stdout",
     "output_type": "stream",
     "text": [
      "./Schubert/4 Impromptus_OP142_1766_scbt1424.mid lasts approx  406.6597554277911  seconds\n",
      "clip:  0  -->  t =  30.75 start =  19 stop = 59  delta =  40\n",
      "clip:  1  -->  t =  30.399221384012655 start =  40 stop = 80  delta =  40\n",
      "clip:  2  -->  t =  30.458745193536465 start =  73 stop = 112  delta =  39\n",
      "clip:  3  -->  t =  30.75 start =  228 stop = 268  delta =  40\n",
      "./Schubert/Piano Sonata in C minor_D958_1757_d958-1.mid lasts approx  602.4348325782179  seconds\n",
      "clip:  0  -->  t =  30.321215884832593 start =  79 stop = 97  delta =  18\n",
      "clip:  1  -->  t =  30.322739170358894 start =  183 stop = 201  delta =  18\n",
      "clip:  2  -->  t =  30.5421832628865 start =  57 stop = 73  delta =  16\n",
      "clip:  3  -->  t =  31.364131308216525 start =  151 stop = 167  delta =  16\n",
      "./Schubert/Piano Sonata in A minor_D784_1756_sy_sps53.mid lasts approx  267.58643175879286  seconds\n",
      "clip:  0  -->  t =  30.5 start =  116 stop = 135  delta =  19\n",
      "clip:  1  -->  t =  31.5 start =  88 stop = 108  delta =  20\n",
      "clip:  2  -->  t =  31.5 start =  107 stop = 127  delta =  20\n",
      "clip:  3  -->  t =  30.5 start =  32 stop = 51  delta =  19\n",
      "./Schubert/4 Impromptus_OP142_1765_scbt1423.mid lasts approx  588.7714057000203  seconds\n",
      "clip:  0  -->  t =  32.0 start =  83 stop = 98  delta =  15\n",
      "clip:  1  -->  t =  32.0 start =  50 stop = 65  delta =  15\n",
      "clip:  2  -->  t =  32.0 start =  11 stop = 26  delta =  15\n",
      "clip:  3  -->  t =  32.0 start =  73 stop = 88  delta =  15\n",
      "./Schubert/Piano Quintet in A major_OP114_1727_schubert_op114_2.mid lasts approx  398.2126603675364  seconds\n",
      "clip:  0  -->  t =  31.5 start =  32 stop = 52  delta =  20\n",
      "clip:  1  -->  t =  33.488515719620544 start =  40 stop = 60  delta =  20\n",
      "clip:  2  -->  t =  31.5 start =  25 stop = 45  delta =  20\n",
      "clip:  3  -->  t =  32.68905618293109 start =  55 stop = 66  delta =  11\n",
      "./Schubert/Piano Sonata in C minor_D958_1759_d958-3.mid lasts approx  222.56165487616116  seconds\n",
      "clip:  0  -->  t =  30.399593410323362 start =  52 stop = 78  delta =  26\n",
      "clip:  1  -->  t =  30.632507661637163 start =  43 stop = 69  delta =  26\n",
      "clip:  2  -->  t =  30.278412241453772 start =  80 stop = 103  delta =  23\n",
      "clip:  3  -->  t =  30.09916040967927 start =  53 stop = 79  delta =  26\n",
      "./Schubert/Piano Sonata in C minor_D958_1760_d958-4.mid lasts approx  625.2132574260258  seconds\n",
      "clip:  0  -->  t =  30.666340520290372 start =  143 stop = 175  delta =  32\n",
      "clip:  1  -->  t =  30.493949755381326 start =  169 stop = 202  delta =  33\n",
      "clip:  2  -->  t =  30.006481583436805 start =  318 stop = 353  delta =  35\n",
      "clip:  3  -->  t =  30.722674161913936 start =  78 stop = 112  delta =  34\n"
     ]
    },
    {
     "name": "stderr",
     "output_type": "stream",
     "text": [
      "/home/carlbrady/miniconda3/lib/python3.10/site-packages/music21/midi/translate.py:863: TranslateWarning: Unable to determine instrument from <music21.midi.MidiEvent SEQUENCE_TRACK_NAME, track=0, channel=None, data=b'Trio f\\xfcr Violine, Cello und Klavier Op.99, Rondo'>; getting generic Instrument\n",
      "  warnings.warn(\n"
     ]
    },
    {
     "name": "stdout",
     "output_type": "stream",
     "text": [
      "./Schubert/Piano Trio in B-flat major_OP99_1739_sb99m4.mid lasts approx  562.3590469635146  seconds\n",
      "clip:  0  -->  t =  30.56923076923077 start =  86 stop = 116  delta =  30\n",
      "clip:  1  -->  t =  31.0 start =  81 stop = 111  delta =  30\n",
      "clip:  2  -->  t =  30.56923076923077 start =  98 stop = 134  delta =  36\n",
      "clip:  3  -->  t =  31.86787330316742 start =  246 stop = 263  delta =  17\n",
      "./Schubert/Piano Sonata in A minor_D845_1750_sy_sps12.mid lasts approx  580.0833333333335  seconds\n",
      "clip:  0  -->  t =  30.58712121212121 start =  139 stop = 158  delta =  19\n",
      "clip:  1  -->  t =  31.48484848484849 start =  98 stop = 117  delta =  19\n",
      "clip:  2  -->  t =  30.041666666666668 start =  37 stop = 78  delta =  41\n",
      "clip:  3  -->  t =  30.3125 start =  1 stop = 17  delta =  16\n",
      "./Schubert/Piano Sonata in C minor_D958_1758_d958-2.mid lasts approx  454.2446316725714  seconds\n",
      "clip:  0  -->  t =  46.83627675279883 start =  20 stop = 25  delta =  5\n",
      "clip:  1  -->  t =  50.2468593147759 start =  23 stop = 28  delta =  5\n",
      "clip:  2  -->  t =  50.2468593147759 start =  23 stop = 28  delta =  5\n",
      "clip:  3  -->  t =  43.06836204083267 start =  11 stop = 16  delta =  5\n",
      "./Schubert/Piano Quintet in A major_OP114_1728_schubert_op114_3.mid lasts approx  251.95343521066118  seconds\n",
      "clip:  0  -->  t =  30.655691849939863 start =  155 stop = 182  delta =  27\n",
      "clip:  1  -->  t =  31.5 start =  116 stop = 136  delta =  20\n",
      "clip:  2  -->  t =  31.5 start =  105 stop = 125  delta =  20\n",
      "clip:  3  -->  t =  30.062056410228834 start =  125 stop = 145  delta =  20\n",
      "./Schubert/Piano Quintet in A major_OP114_1730_schubert_op114_5.mid lasts approx  393.52395621749076  seconds\n",
      "clip:  0  -->  t =  31.0 start =  136 stop = 166  delta =  30\n",
      "clip:  1  -->  t =  31.377610669905508 start =  15 stop = 45  delta =  30\n",
      "clip:  2  -->  t =  31.0 start =  201 stop = 231  delta =  30\n",
      "clip:  3  -->  t =  31.0 start =  9 stop = 39  delta =  30\n",
      "./Schubert/Piano Sonata in A major_D959_1735_sy_sps94.mid lasts approx  690.2937361629902  seconds\n",
      "clip:  0  -->  t =  32.0 start =  97 stop = 112  delta =  15\n",
      "clip:  1  -->  t =  32.0 start =  34 stop = 49  delta =  15\n",
      "clip:  2  -->  t =  32.0 start =  29 stop = 44  delta =  15\n",
      "clip:  3  -->  t =  32.0 start =  177 stop = 192  delta =  15\n",
      "./Schubert/Piano Sonata in D major_D850_1777_sy_sps23.mid lasts approx  537.3930644044858  seconds\n",
      "clip:  0  -->  t =  30.5 start =  29 stop = 51  delta =  22\n",
      "clip:  1  -->  t =  31.625 start =  44 stop = 62  delta =  18\n",
      "clip:  2  -->  t =  30.27475484251222 start =  50 stop = 68  delta =  18\n",
      "clip:  3  -->  t =  31.013351611596793 start =  100 stop = 119  delta =  19\n",
      "./Schubert/Piano Sonata in D-flat major_D568_1773_sy_sps43.mid lasts approx  232.71936758893278  seconds\n",
      "clip:  0  -->  t =  30.76086956521739 start =  57 stop = 79  delta =  22\n",
      "clip:  1  -->  t =  31.5 start =  69 stop = 91  delta =  22\n",
      "clip:  2  -->  t =  31.5 start =  2 stop = 23  delta =  21\n",
      "clip:  3  -->  t =  30.616600790513832 start =  53 stop = 72  delta =  19\n"
     ]
    }
   ],
   "source": [
    "composer = Composers[3] # Schubert\n",
    "\n",
    "composer_clips[composer] = extract_samples(composer,T=target_time,n_tracks=n_tracks,n_clips=n_clips)"
   ]
  },
  {
   "cell_type": "code",
   "execution_count": 17,
   "id": "9f40ffc4",
   "metadata": {},
   "outputs": [
    {
     "name": "stdout",
     "output_type": "stream",
     "text": [
      "Schubert 60\n"
     ]
    }
   ],
   "source": [
    "print('Schubert',len(composer_clips['Schubert']))"
   ]
  },
  {
   "cell_type": "code",
   "execution_count": 22,
   "id": "5bc71528",
   "metadata": {},
   "outputs": [
    {
     "name": "stdout",
     "output_type": "stream",
     "text": [
      "Bach 60\n",
      "Brahms 60\n",
      "Beethoven 60\n",
      "Schubert 60\n",
      "Total of 240 clip streams parsed...\n",
      "\n",
      "\n",
      "\n"
     ]
    }
   ],
   "source": [
    "# Complete Data set of clips : \n",
    "\n",
    "n_samples = 0\n",
    "\n",
    "for composer in Composers: \n",
    "    \n",
    "    n_composer = len(composer_clips[composer])\n",
    "    \n",
    "    print(composer,n_composer)\n",
    "    \n",
    "    n_samples += n_composer\n",
    "    \n",
    "print(f\"Total of {n_samples} clip streams parsed...\\n\\n\\n\")"
   ]
  },
  {
   "cell_type": "markdown",
   "id": "750eca19",
   "metadata": {},
   "source": [
    "## Now Use Feature Extraction Modules in Music21 to get set of numeric features describing each clip\n",
    "\n",
    "- the following function is based on documentation from music21 [music21 feature extraction docs](https://web.mit.edu/music21/doc/moduleReference/moduleFeaturesJSymbolic.html)\n",
    "\n",
    "- music21 offers a huge library of feature choices to extract from stream objects\n",
    "\n",
    "- will narrow it down:\n",
    "\n",
    "        - many of the features are about which instrument used, but seems irrelevant to who composed the piece \n",
    "        \n",
    "        - will focus on features that only return single numeric value\n",
    "        \n",
    "        - later could be nice to try incorporating the histogram features provided "
   ]
  },
  {
   "cell_type": "code",
   "execution_count": 40,
   "id": "1d5ac4ef",
   "metadata": {},
   "outputs": [],
   "source": [
    "# Function takes a stream object for a clip, searchs through full library of feature options, discarding unwanted features\n",
    "\n",
    "# set output = False to supress printing progress\n",
    "\n",
    "# returns a numpy array with shape (number of examples, number of features)\n",
    "\n",
    "def features_from_stream(s,output=False):\n",
    "    \n",
    "    feature_vector = []\n",
    "    \n",
    "    # Narrowing down useful features to use... \n",
    "\n",
    "    matches = [\"Fraction\", \"Instrument\",\"Meter\",\"Tempo\",\"Voice\"]\n",
    "\n",
    "    stop = 5\n",
    "\n",
    "    fs = features.jSymbolic.extractorsById\n",
    "    \n",
    "    for k in fs:\n",
    "        for i in range(len(fs[k])):\n",
    "              if fs[k][i] is not None:\n",
    "                    n = fs[k][i].__name__\n",
    "                    if fs[k][i] not in features.jSymbolic.featureExtractors:\n",
    "                        n += ' (not implemented)'\n",
    "                        continue\n",
    "\n",
    "                    name = n[:-7] # throw away 'Feaure' from method name when printing \n",
    "\n",
    "                    if any(x in name for x in matches):\n",
    "                        continue\n",
    "\n",
    "                    extractor = getattr(features.jSymbolic,n) \n",
    "\n",
    "                    fe = extractor(s)\n",
    "\n",
    "                    try:\n",
    "                        val = fe.extract().vector\n",
    "                    except:\n",
    "                        continue\n",
    "\n",
    "                    # take single valued features to make life easier     \n",
    "                    if len(val)>1:\n",
    "                        continue\n",
    "                    \n",
    "                    feature_vector.append(val[0])\n",
    "                    if output: print(f'{k} {i} {name} {val}')\n",
    "                    \n",
    "    feature_vector = np.array(feature_vector)\n",
    "    \n",
    "    return feature_vector"
   ]
  },
  {
   "cell_type": "code",
   "execution_count": 24,
   "id": "8c98c536",
   "metadata": {},
   "outputs": [
    {
     "name": "stdout",
     "output_type": "stream",
     "text": [
      "M 2 AverageMelodicInterval [3.169230769230769]\n",
      "M 3 MostCommonMelodicInterval [2]\n",
      "M 4 DistanceBetweenMostCommonMelodicIntervals [1]\n",
      "M 5 MostCommonMelodicIntervalPrevalence [0.35384615384615387]\n",
      "M 6 RelativeStrengthOfMostCommonIntervals [0.5217391304347826]\n",
      "M 7 NumberOfCommonMelodicIntervals [3]\n",
      "M 8 AmountOfArpeggiation [0.38461538461538464]\n",
      "M 9 RepeatedNotes [0.15384615384615385]\n",
      "M 10 ChromaticMotion [0.18461538461538463]\n",
      "M 11 StepwiseMotion [0.5384615384615384]\n",
      "M 12 MelodicThirds [0.13846153846153847]\n",
      "M 13 MelodicFifths [0.03076923076923077]\n",
      "M 14 MelodicTritones [0.005128205128205128]\n",
      "M 15 MelodicOctaves [0.015384615384615385]\n",
      "M 17 DirectionOfMotion [0.5212121212121212]\n",
      "M 18 DurationOfMelodicArcs [1.7934782608695652]\n",
      "M 19 SizeOfMelodicArcs [6.6521739130434785]\n",
      "P 1 MostCommonPitchPrevalence [0.12626262626262627]\n",
      "P 2 MostCommonPitchClassPrevalence [0.16161616161616163]\n",
      "P 3 RelativeStrengthOfTopPitches [0.84]\n",
      "P 4 RelativeStrengthOfTopPitchClasses [0.90625]\n",
      "P 5 IntervalBetweenStrongestPitches [5]\n",
      "P 6 IntervalBetweenStrongestPitchClasses [2]\n",
      "P 7 NumberOfCommonPitches [5]\n",
      "P 8 PitchVariety [22]\n",
      "P 9 PitchClassVariety [11]\n",
      "P 10 Range [29]\n",
      "P 11 MostCommonPitch [57]\n",
      "P 12 PrimaryRegister [53.78787878787879]\n",
      "P 13 ImportanceOfBassRegister [0.494949494949495]\n",
      "P 14 ImportanceOfMiddleRegister [0.5050505050505051]\n",
      "P 15 ImportanceOfHighRegister [0.0]\n",
      "P 16 MostCommonPitchClass [7]\n",
      "P 22 Quality [0]\n",
      "R 15 NoteDensity [6.439024390243903]\n",
      "R 17 AverageNoteDuration [0.16414141414141414]\n",
      "R 18 VariabilityOfNoteDuration [0.0787498289369327]\n",
      "R 19 MaximumNoteDuration [0.5]\n",
      "R 20 MinimumNoteDuration [0.125]\n",
      "R 21 StaccatoIncidence [0.0]\n",
      "R 22 AverageTimeBetweenAttacks [0.15950520833333334]\n",
      "R 23 VariabilityOfTimeBetweenAttacks [0.07124371298254978]\n",
      "R 36 Duration [30.75]\n"
     ]
    }
   ],
   "source": [
    "# access streams via [composer][index].stream\n",
    "\n",
    "clip_stream = composer_clips['Bach'][0].stream\n",
    "\n",
    "feature_vector = features_from_stream(clip_stream,output=True)"
   ]
  },
  {
   "cell_type": "code",
   "execution_count": 25,
   "id": "50cb067d",
   "metadata": {},
   "outputs": [
    {
     "data": {
      "text/plain": [
       "array([3.16923077e+00, 2.00000000e+00, 1.00000000e+00, 3.53846154e-01,\n",
       "       5.21739130e-01, 3.00000000e+00, 3.84615385e-01, 1.53846154e-01,\n",
       "       1.84615385e-01, 5.38461538e-01, 1.38461538e-01, 3.07692308e-02,\n",
       "       5.12820513e-03, 1.53846154e-02, 5.21212121e-01, 1.79347826e+00,\n",
       "       6.65217391e+00, 1.26262626e-01, 1.61616162e-01, 8.40000000e-01,\n",
       "       9.06250000e-01, 5.00000000e+00, 2.00000000e+00, 5.00000000e+00,\n",
       "       2.20000000e+01, 1.10000000e+01, 2.90000000e+01, 5.70000000e+01,\n",
       "       5.37878788e+01, 4.94949495e-01, 5.05050505e-01, 0.00000000e+00,\n",
       "       7.00000000e+00, 0.00000000e+00, 6.43902439e+00, 1.64141414e-01,\n",
       "       7.87498289e-02, 5.00000000e-01, 1.25000000e-01, 0.00000000e+00,\n",
       "       1.59505208e-01, 7.12437130e-02, 3.07500000e+01])"
      ]
     },
     "execution_count": 25,
     "metadata": {},
     "output_type": "execute_result"
    }
   ],
   "source": [
    "feature_vector"
   ]
  },
  {
   "cell_type": "markdown",
   "id": "e97c60b2",
   "metadata": {},
   "source": [
    "# Construct data set "
   ]
  },
  {
   "cell_type": "code",
   "execution_count": 26,
   "id": "e28eda6a",
   "metadata": {},
   "outputs": [],
   "source": [
    "# pull features from all streams\n",
    "\n",
    "# clips = named tuples with composer, audio_path to original file, start measure, stop measure, and stream object\n",
    "\n",
    "def extract_data(clips):\n",
    "    \n",
    "    print(f\"Beginning Feature Extraction for {len(clips)} clips\")\n",
    "    \n",
    "    vectors = []\n",
    "    \n",
    "    for i in range(len(clips)):\n",
    "        \n",
    "        print(f\"extracting clip {(i+1)}/{len(clips)}...\")\n",
    "        feature_vector = features_from_stream(clips[i].stream,output=False)\n",
    "        \n",
    "        vectors.append(feature_vector)\n",
    "        \n",
    "    return np.vstack(vectors)"
   ]
  },
  {
   "cell_type": "code",
   "execution_count": 27,
   "id": "57f60e7c",
   "metadata": {},
   "outputs": [],
   "source": [
    "# Create dictionary to store numpy arrays of  X = samples, features for each composer\n",
    "\n",
    "X_composers = dict()"
   ]
  },
  {
   "cell_type": "code",
   "execution_count": 28,
   "id": "a4d447ac",
   "metadata": {},
   "outputs": [
    {
     "name": "stdout",
     "output_type": "stream",
     "text": [
      "Beginning Feature Extraction for 60 clips\n",
      "extracting clip 1/60...\n",
      "extracting clip 2/60...\n",
      "extracting clip 3/60...\n",
      "extracting clip 4/60...\n",
      "extracting clip 5/60...\n",
      "extracting clip 6/60...\n",
      "extracting clip 7/60...\n",
      "extracting clip 8/60...\n",
      "extracting clip 9/60...\n",
      "extracting clip 10/60...\n",
      "extracting clip 11/60...\n",
      "extracting clip 12/60...\n",
      "extracting clip 13/60...\n",
      "extracting clip 14/60...\n",
      "extracting clip 15/60...\n",
      "extracting clip 16/60...\n",
      "extracting clip 17/60...\n",
      "extracting clip 18/60...\n",
      "extracting clip 19/60...\n",
      "extracting clip 20/60...\n",
      "extracting clip 21/60...\n",
      "extracting clip 22/60...\n",
      "extracting clip 23/60...\n",
      "extracting clip 24/60...\n",
      "extracting clip 25/60...\n",
      "extracting clip 26/60...\n",
      "extracting clip 27/60...\n",
      "extracting clip 28/60...\n",
      "extracting clip 29/60...\n",
      "extracting clip 30/60...\n",
      "extracting clip 31/60...\n",
      "extracting clip 32/60...\n",
      "extracting clip 33/60...\n",
      "extracting clip 34/60...\n",
      "extracting clip 35/60...\n",
      "extracting clip 36/60...\n",
      "extracting clip 37/60...\n",
      "extracting clip 38/60...\n",
      "extracting clip 39/60...\n",
      "extracting clip 40/60...\n",
      "extracting clip 41/60...\n",
      "extracting clip 42/60...\n",
      "extracting clip 43/60...\n",
      "extracting clip 44/60...\n",
      "extracting clip 45/60...\n",
      "extracting clip 46/60...\n",
      "extracting clip 47/60...\n",
      "extracting clip 48/60...\n",
      "extracting clip 49/60...\n",
      "extracting clip 50/60...\n",
      "extracting clip 51/60...\n",
      "extracting clip 52/60...\n",
      "extracting clip 53/60...\n",
      "extracting clip 54/60...\n",
      "extracting clip 55/60...\n",
      "extracting clip 56/60...\n",
      "extracting clip 57/60...\n",
      "extracting clip 58/60...\n",
      "extracting clip 59/60...\n",
      "extracting clip 60/60...\n"
     ]
    }
   ],
   "source": [
    "composer = Composers[0]\n",
    "\n",
    "X_composers[composer] = extract_data(composer_clips[composer])"
   ]
  },
  {
   "cell_type": "code",
   "execution_count": 29,
   "id": "5048b884",
   "metadata": {},
   "outputs": [
    {
     "name": "stdout",
     "output_type": "stream",
     "text": [
      "Brahms\n",
      "Beginning Feature Extraction for 60 clips\n",
      "extracting clip 1/60...\n",
      "extracting clip 2/60...\n",
      "extracting clip 3/60...\n",
      "extracting clip 4/60...\n",
      "extracting clip 5/60...\n",
      "extracting clip 6/60...\n",
      "extracting clip 7/60...\n",
      "extracting clip 8/60...\n",
      "extracting clip 9/60...\n",
      "extracting clip 10/60...\n",
      "extracting clip 11/60...\n",
      "extracting clip 12/60...\n",
      "extracting clip 13/60...\n",
      "extracting clip 14/60...\n",
      "extracting clip 15/60...\n",
      "extracting clip 16/60...\n",
      "extracting clip 17/60...\n",
      "extracting clip 18/60...\n",
      "extracting clip 19/60...\n",
      "extracting clip 20/60...\n",
      "extracting clip 21/60...\n",
      "extracting clip 22/60...\n",
      "extracting clip 23/60...\n",
      "extracting clip 24/60...\n",
      "extracting clip 25/60...\n",
      "extracting clip 26/60...\n",
      "extracting clip 27/60...\n",
      "extracting clip 28/60...\n",
      "extracting clip 29/60...\n",
      "extracting clip 30/60...\n",
      "extracting clip 31/60...\n",
      "extracting clip 32/60...\n",
      "extracting clip 33/60...\n",
      "extracting clip 34/60...\n",
      "extracting clip 35/60...\n",
      "extracting clip 36/60...\n",
      "extracting clip 37/60...\n",
      "extracting clip 38/60...\n",
      "extracting clip 39/60...\n",
      "extracting clip 40/60...\n",
      "extracting clip 41/60...\n",
      "extracting clip 42/60...\n",
      "extracting clip 43/60...\n",
      "extracting clip 44/60...\n",
      "extracting clip 45/60...\n",
      "extracting clip 46/60...\n",
      "extracting clip 47/60...\n",
      "extracting clip 48/60...\n",
      "extracting clip 49/60...\n",
      "extracting clip 50/60...\n",
      "extracting clip 51/60...\n",
      "extracting clip 52/60...\n",
      "extracting clip 53/60...\n",
      "extracting clip 54/60...\n",
      "extracting clip 55/60...\n",
      "extracting clip 56/60...\n",
      "extracting clip 57/60...\n",
      "extracting clip 58/60...\n",
      "extracting clip 59/60...\n",
      "extracting clip 60/60...\n"
     ]
    }
   ],
   "source": [
    "composer = Composers[1]\n",
    "\n",
    "print(composer)\n",
    "\n",
    "X_composers[composer] = extract_data(composer_clips[composer])"
   ]
  },
  {
   "cell_type": "code",
   "execution_count": 30,
   "id": "08920d9f",
   "metadata": {},
   "outputs": [
    {
     "name": "stdout",
     "output_type": "stream",
     "text": [
      "Beethoven\n",
      "Beginning Feature Extraction for 60 clips\n",
      "extracting clip 1/60...\n",
      "extracting clip 2/60...\n",
      "extracting clip 3/60...\n",
      "extracting clip 4/60...\n",
      "extracting clip 5/60...\n",
      "extracting clip 6/60...\n",
      "extracting clip 7/60...\n",
      "extracting clip 8/60...\n",
      "extracting clip 9/60...\n",
      "extracting clip 10/60...\n",
      "extracting clip 11/60...\n",
      "extracting clip 12/60...\n",
      "extracting clip 13/60...\n",
      "extracting clip 14/60...\n",
      "extracting clip 15/60...\n",
      "extracting clip 16/60...\n",
      "extracting clip 17/60...\n",
      "extracting clip 18/60...\n",
      "extracting clip 19/60...\n",
      "extracting clip 20/60...\n",
      "extracting clip 21/60...\n",
      "extracting clip 22/60...\n",
      "extracting clip 23/60...\n",
      "extracting clip 24/60...\n",
      "extracting clip 25/60...\n",
      "extracting clip 26/60...\n",
      "extracting clip 27/60...\n",
      "extracting clip 28/60...\n",
      "extracting clip 29/60...\n",
      "extracting clip 30/60...\n",
      "extracting clip 31/60...\n",
      "extracting clip 32/60...\n",
      "extracting clip 33/60...\n",
      "extracting clip 34/60...\n",
      "extracting clip 35/60...\n",
      "extracting clip 36/60...\n",
      "extracting clip 37/60...\n",
      "extracting clip 38/60...\n",
      "extracting clip 39/60...\n",
      "extracting clip 40/60...\n",
      "extracting clip 41/60...\n",
      "extracting clip 42/60...\n",
      "extracting clip 43/60...\n",
      "extracting clip 44/60...\n",
      "extracting clip 45/60...\n",
      "extracting clip 46/60...\n",
      "extracting clip 47/60...\n",
      "extracting clip 48/60...\n",
      "extracting clip 49/60...\n",
      "extracting clip 50/60...\n",
      "extracting clip 51/60...\n",
      "extracting clip 52/60...\n",
      "extracting clip 53/60...\n",
      "extracting clip 54/60...\n",
      "extracting clip 55/60...\n",
      "extracting clip 56/60...\n",
      "extracting clip 57/60...\n",
      "extracting clip 58/60...\n",
      "extracting clip 59/60...\n",
      "extracting clip 60/60...\n"
     ]
    }
   ],
   "source": [
    "composer = Composers[2]\n",
    "\n",
    "print(composer)\n",
    "\n",
    "X_composers[composer] = extract_data(composer_clips[composer])"
   ]
  },
  {
   "cell_type": "code",
   "execution_count": 31,
   "id": "27637d4f",
   "metadata": {},
   "outputs": [
    {
     "name": "stdout",
     "output_type": "stream",
     "text": [
      "Schubert\n",
      "Beginning Feature Extraction for 60 clips\n",
      "extracting clip 1/60...\n",
      "extracting clip 2/60...\n",
      "extracting clip 3/60...\n",
      "extracting clip 4/60...\n",
      "extracting clip 5/60...\n",
      "extracting clip 6/60...\n",
      "extracting clip 7/60...\n",
      "extracting clip 8/60...\n",
      "extracting clip 9/60...\n",
      "extracting clip 10/60...\n",
      "extracting clip 11/60...\n",
      "extracting clip 12/60...\n",
      "extracting clip 13/60...\n",
      "extracting clip 14/60...\n",
      "extracting clip 15/60...\n",
      "extracting clip 16/60...\n",
      "extracting clip 17/60...\n",
      "extracting clip 18/60...\n",
      "extracting clip 19/60...\n",
      "extracting clip 20/60...\n",
      "extracting clip 21/60...\n",
      "extracting clip 22/60...\n",
      "extracting clip 23/60...\n",
      "extracting clip 24/60...\n",
      "extracting clip 25/60...\n",
      "extracting clip 26/60...\n",
      "extracting clip 27/60...\n",
      "extracting clip 28/60...\n",
      "extracting clip 29/60...\n",
      "extracting clip 30/60...\n",
      "extracting clip 31/60...\n",
      "extracting clip 32/60...\n",
      "extracting clip 33/60...\n",
      "extracting clip 34/60...\n",
      "extracting clip 35/60...\n",
      "extracting clip 36/60...\n",
      "extracting clip 37/60...\n",
      "extracting clip 38/60...\n",
      "extracting clip 39/60...\n",
      "extracting clip 40/60...\n",
      "extracting clip 41/60...\n",
      "extracting clip 42/60...\n",
      "extracting clip 43/60...\n",
      "extracting clip 44/60...\n",
      "extracting clip 45/60...\n",
      "extracting clip 46/60...\n",
      "extracting clip 47/60...\n",
      "extracting clip 48/60...\n",
      "extracting clip 49/60...\n",
      "extracting clip 50/60...\n",
      "extracting clip 51/60...\n",
      "extracting clip 52/60...\n",
      "extracting clip 53/60...\n",
      "extracting clip 54/60...\n",
      "extracting clip 55/60...\n",
      "extracting clip 56/60...\n",
      "extracting clip 57/60...\n",
      "extracting clip 58/60...\n",
      "extracting clip 59/60...\n",
      "extracting clip 60/60...\n"
     ]
    }
   ],
   "source": [
    "composer = Composers[3] # schubert \n",
    "\n",
    "print(composer)\n",
    "\n",
    "X_composers[composer] = extract_data(composer_clips[composer])"
   ]
  },
  {
   "cell_type": "code",
   "execution_count": 32,
   "id": "414589f3",
   "metadata": {},
   "outputs": [
    {
     "name": "stdout",
     "output_type": "stream",
     "text": [
      "[0. 0. 0. 0. 0. 0. 0. 0. 0. 0. 0. 0. 0. 0. 0. 0. 0. 0. 0. 0. 0. 0. 0. 0.\n",
      " 0. 0. 0. 0. 0. 0. 0. 0. 0. 0. 0. 0. 0. 0. 0. 0. 0. 0. 0. 0. 0. 0. 0. 0.\n",
      " 0. 0. 0. 0. 0. 0. 0. 0. 0. 0. 0. 0.]\n",
      "[1. 1. 1. 1. 1. 1. 1. 1. 1. 1. 1. 1. 1. 1. 1. 1. 1. 1. 1. 1. 1. 1. 1. 1.\n",
      " 1. 1. 1. 1. 1. 1. 1. 1. 1. 1. 1. 1. 1. 1. 1. 1. 1. 1. 1. 1. 1. 1. 1. 1.\n",
      " 1. 1. 1. 1. 1. 1. 1. 1. 1. 1. 1. 1.]\n",
      "[2. 2. 2. 2. 2. 2. 2. 2. 2. 2. 2. 2. 2. 2. 2. 2. 2. 2. 2. 2. 2. 2. 2. 2.\n",
      " 2. 2. 2. 2. 2. 2. 2. 2. 2. 2. 2. 2. 2. 2. 2. 2. 2. 2. 2. 2. 2. 2. 2. 2.\n",
      " 2. 2. 2. 2. 2. 2. 2. 2. 2. 2. 2. 2.]\n",
      "[3. 3. 3. 3. 3. 3. 3. 3. 3. 3. 3. 3. 3. 3. 3. 3. 3. 3. 3. 3. 3. 3. 3. 3.\n",
      " 3. 3. 3. 3. 3. 3. 3. 3. 3. 3. 3. 3. 3. 3. 3. 3. 3. 3. 3. 3. 3. 3. 3. 3.\n",
      " 3. 3. 3. 3. 3. 3. 3. 3. 3. 3. 3. 3.]\n"
     ]
    }
   ],
   "source": [
    "y_Bach=np.zeros(shape=(len(X_composers['Bach']),))\n",
    "y_Beethoven=1*np.ones(shape=(len(X_composers['Beethoven']),))\n",
    "y_Brahms=2*np.ones(shape=(len(X_composers['Brahms']),))\n",
    "y_Schubert=3*np.ones(shape=(len(X_composers['Schubert']),))\n",
    "\n",
    "print(y_Bach)\n",
    "print(y_Beethoven)\n",
    "print(y_Brahms)\n",
    "print(y_Schubert)"
   ]
  },
  {
   "cell_type": "code",
   "execution_count": 33,
   "id": "1c257fa6",
   "metadata": {},
   "outputs": [
    {
     "name": "stdout",
     "output_type": "stream",
     "text": [
      "(240, 43)\n",
      "(240,)\n"
     ]
    }
   ],
   "source": [
    "train_x = np.vstack((X_composers['Bach'],X_composers['Beethoven'],X_composers['Brahms'],X_composers['Schubert']))\n",
    "\n",
    "train_y = np.hstack((y_Bach,y_Beethoven,y_Brahms,y_Schubert))\n",
    "\n",
    "print(train_x.shape)\n",
    "print(train_y.shape)"
   ]
  },
  {
   "cell_type": "code",
   "execution_count": 34,
   "id": "d776984f",
   "metadata": {},
   "outputs": [],
   "source": [
    "\n",
    "dataset_path = './DataStreamFeatures/TrainData.pkl'\n",
    "\n",
    "import pickle as pkl\n",
    "\n",
    "#to save it\n",
    "with open(dataset_path, \"wb\") as f:\n",
    "    pkl.dump([train_x, train_y], f)\n",
    "\n"
   ]
  },
  {
   "cell_type": "code",
   "execution_count": 35,
   "id": "e3ec2189",
   "metadata": {},
   "outputs": [],
   "source": [
    "#to load it\n",
    "with open(dataset_path, \"rb\") as f:\n",
    "    train_X, train_Y = pkl.load(f)"
   ]
  },
  {
   "cell_type": "code",
   "execution_count": 36,
   "id": "7ca6efee",
   "metadata": {},
   "outputs": [
    {
     "data": {
      "text/plain": [
       "numpy.ndarray"
      ]
     },
     "execution_count": 36,
     "metadata": {},
     "output_type": "execute_result"
    }
   ],
   "source": [
    "type(train_X)"
   ]
  },
  {
   "cell_type": "code",
   "execution_count": 37,
   "id": "0ab1b678",
   "metadata": {},
   "outputs": [
    {
     "data": {
      "text/plain": [
       "(240, 43)"
      ]
     },
     "execution_count": 37,
     "metadata": {},
     "output_type": "execute_result"
    }
   ],
   "source": [
    "train_X.shape"
   ]
  },
  {
   "cell_type": "code",
   "execution_count": 38,
   "id": "728f19d9",
   "metadata": {},
   "outputs": [
    {
     "data": {
      "text/plain": [
       "(240,)"
      ]
     },
     "execution_count": 38,
     "metadata": {},
     "output_type": "execute_result"
    }
   ],
   "source": [
    "train_Y.shape"
   ]
  },
  {
   "cell_type": "markdown",
   "id": "b9c939f1",
   "metadata": {},
   "source": [
    "## Now to do a little bit of feature exploration, selection, then on to Classification!!!"
   ]
  },
  {
   "cell_type": "code",
   "execution_count": 45,
   "id": "f1056451",
   "metadata": {},
   "outputs": [],
   "source": [
    "# will be helpful to keep list of feature names for later intrepretation\n",
    "\n",
    "# return list of feature names for DataFrame column names\n",
    "def feature_names(s):\n",
    "    \n",
    "    names = []\n",
    "    \n",
    "    # Narrowing down useful features to use... \n",
    "\n",
    "    matches = [\"Fraction\", \"Instrument\",\"Meter\",\"Tempo\",\"Voice\"]\n",
    "\n",
    "    fs = features.jSymbolic.extractorsById\n",
    "    \n",
    "    for k in fs:\n",
    "        for i in range(len(fs[k])):\n",
    "              if fs[k][i] is not None:\n",
    "                    n = fs[k][i].__name__\n",
    "                    if fs[k][i] not in features.jSymbolic.featureExtractors:\n",
    "                        n += ' (not implemented)'\n",
    "                        continue\n",
    "\n",
    "                    name = n[:-7] # throw away 'Feaure' from method name when printing \n",
    "\n",
    "                    if any(x in name for x in matches):\n",
    "                        continue\n",
    "\n",
    "                    extractor = getattr(features.jSymbolic,n) \n",
    "\n",
    "                    fe = extractor(s)\n",
    "\n",
    "                    try:\n",
    "                        val = fe.extract().vector\n",
    "                    except:\n",
    "                        continue\n",
    "\n",
    "                    # take single valued features to make life easier     \n",
    "                    if len(val)>1:\n",
    "                        continue\n",
    "                    \n",
    "                    names.append(name)\n",
    "                    print(f'{k} {i} {name} {val}')\n",
    "    \n",
    "    return names"
   ]
  },
  {
   "cell_type": "code",
   "execution_count": 47,
   "id": "1ee3d576",
   "metadata": {},
   "outputs": [
    {
     "name": "stdout",
     "output_type": "stream",
     "text": [
      "M 2 AverageMelodicInterval [3.169230769230769]\n",
      "M 3 MostCommonMelodicInterval [2]\n",
      "M 4 DistanceBetweenMostCommonMelodicIntervals [1]\n",
      "M 5 MostCommonMelodicIntervalPrevalence [0.35384615384615387]\n",
      "M 6 RelativeStrengthOfMostCommonIntervals [0.5217391304347826]\n",
      "M 7 NumberOfCommonMelodicIntervals [3]\n",
      "M 8 AmountOfArpeggiation [0.38461538461538464]\n",
      "M 9 RepeatedNotes [0.15384615384615385]\n",
      "M 10 ChromaticMotion [0.18461538461538463]\n",
      "M 11 StepwiseMotion [0.5384615384615384]\n",
      "M 12 MelodicThirds [0.13846153846153847]\n",
      "M 13 MelodicFifths [0.03076923076923077]\n",
      "M 14 MelodicTritones [0.005128205128205128]\n",
      "M 15 MelodicOctaves [0.015384615384615385]\n",
      "M 17 DirectionOfMotion [0.5212121212121212]\n",
      "M 18 DurationOfMelodicArcs [1.7934782608695652]\n",
      "M 19 SizeOfMelodicArcs [6.6521739130434785]\n",
      "P 1 MostCommonPitchPrevalence [0.12626262626262627]\n",
      "P 2 MostCommonPitchClassPrevalence [0.16161616161616163]\n",
      "P 3 RelativeStrengthOfTopPitches [0.84]\n",
      "P 4 RelativeStrengthOfTopPitchClasses [0.90625]\n",
      "P 5 IntervalBetweenStrongestPitches [5]\n",
      "P 6 IntervalBetweenStrongestPitchClasses [2]\n",
      "P 7 NumberOfCommonPitches [5]\n",
      "P 8 PitchVariety [22]\n",
      "P 9 PitchClassVariety [11]\n",
      "P 10 Range [29]\n",
      "P 11 MostCommonPitch [57]\n",
      "P 12 PrimaryRegister [53.78787878787879]\n",
      "P 13 ImportanceOfBassRegister [0.494949494949495]\n",
      "P 14 ImportanceOfMiddleRegister [0.5050505050505051]\n",
      "P 15 ImportanceOfHighRegister [0.0]\n",
      "P 16 MostCommonPitchClass [7]\n",
      "P 22 Quality [0]\n",
      "R 15 NoteDensity [6.439024390243903]\n",
      "R 17 AverageNoteDuration [0.16414141414141414]\n",
      "R 18 VariabilityOfNoteDuration [0.0787498289369327]\n",
      "R 19 MaximumNoteDuration [0.5]\n",
      "R 20 MinimumNoteDuration [0.125]\n",
      "R 21 StaccatoIncidence [0.0]\n",
      "R 22 AverageTimeBetweenAttacks [0.15950520833333334]\n",
      "R 23 VariabilityOfTimeBetweenAttacks [0.07124371298254978]\n",
      "R 36 Duration [30.75]\n"
     ]
    }
   ],
   "source": [
    "clip_stream = composer_clips['Bach'][0].stream\n",
    "\n",
    "column_names = feature_names(clip_stream)"
   ]
  },
  {
   "cell_type": "code",
   "execution_count": 50,
   "id": "e027d03e",
   "metadata": {},
   "outputs": [
    {
     "name": "stdout",
     "output_type": "stream",
     "text": [
      "43\n"
     ]
    }
   ],
   "source": [
    "column_names\n",
    "\n",
    "print(len(column_names))"
   ]
  },
  {
   "cell_type": "code",
   "execution_count": 51,
   "id": "dd2e98a1",
   "metadata": {},
   "outputs": [],
   "source": [
    "names_path = './DataStreamFeatures/TrainColumnNames.pkl'\n",
    "\n",
    "import pickle as pkl\n",
    "\n",
    "#to save it\n",
    "with open(names_path, \"wb\") as f:\n",
    "    pkl.dump(column_names, f)"
   ]
  },
  {
   "cell_type": "code",
   "execution_count": null,
   "id": "834c106b",
   "metadata": {},
   "outputs": [],
   "source": []
  }
 ],
 "metadata": {
  "kernelspec": {
   "display_name": "Python 3 (ipykernel)",
   "language": "python",
   "name": "python3"
  },
  "language_info": {
   "codemirror_mode": {
    "name": "ipython",
    "version": 3
   },
   "file_extension": ".py",
   "mimetype": "text/x-python",
   "name": "python",
   "nbconvert_exporter": "python",
   "pygments_lexer": "ipython3",
   "version": "3.10.8"
  }
 },
 "nbformat": 4,
 "nbformat_minor": 5
}
